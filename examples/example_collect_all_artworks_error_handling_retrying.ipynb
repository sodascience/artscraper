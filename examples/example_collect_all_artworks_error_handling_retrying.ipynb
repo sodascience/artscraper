{
 "cells": [
  {
   "cell_type": "markdown",
   "id": "d83d0691",
   "metadata": {},
   "source": [
    "# Collect artworks and metadata for all artists"
   ]
  },
  {
   "cell_type": "code",
   "execution_count": 1,
   "id": "194ac6af",
   "metadata": {},
   "outputs": [],
   "source": [
    "import time"
   ]
  },
  {
   "cell_type": "code",
   "execution_count": 2,
   "id": "8583c7c0",
   "metadata": {},
   "outputs": [],
   "source": [
    "from artscraper import GoogleArtScraper, FindArtworks, random_wait_time, retry"
   ]
  },
  {
   "cell_type": "code",
   "execution_count": 3,
   "id": "c34d9016",
   "metadata": {},
   "outputs": [],
   "source": [
    "# Maximum number of attempts to perform a task \n",
    "max_retries = 10"
   ]
  },
  {
   "cell_type": "code",
   "execution_count": 4,
   "id": "c7c7aed1",
   "metadata": {},
   "outputs": [],
   "source": [
    "min_wait_time = 10"
   ]
  },
  {
   "cell_type": "code",
   "execution_count": 5,
   "id": "8d21abe7",
   "metadata": {},
   "outputs": [],
   "source": [
    "# Artist Clementine Hunter, 27 artworks\n",
    "artist_urls = ['https://artsandculture.google.com/entity/clementine-hunter/m0d1k7n']"
   ]
  },
  {
   "cell_type": "code",
   "execution_count": 6,
   "id": "43ae9afa",
   "metadata": {},
   "outputs": [],
   "source": [
    "# Directory in which the data is to be stored\n",
    "output_dir = './data'"
   ]
  },
  {
   "cell_type": "code",
   "execution_count": 7,
   "id": "eb623d6b",
   "metadata": {
    "scrolled": true
   },
   "outputs": [
    {
     "name": "stdout",
     "output_type": "stream",
     "text": [
      "artwork URL: https://artsandculture.google.com/asset/quilt-clementine-hunter/_gFkai2V-4ydag\n",
      "artwork URL: https://artsandculture.google.com/asset/zinnias-in-a-pot-clementine-hunter/mwGD6E7Ek5acqQ\n",
      "artwork URL: https://artsandculture.google.com/asset/melrose-quilt-clementine-hunter/zAEML8E_JHdZBw\n",
      "artwork URL: https://artsandculture.google.com/asset/funeral-procession-clementine-hunter/3gHi9tMtAF2big\n",
      "artwork URL: https://artsandculture.google.com/asset/chevron-quilt-clementine-hunter/UQGTB4IChKZ6Qw\n",
      "artwork URL: https://artsandculture.google.com/asset/chaleur-the-sun-gives-life-to-everything-clementine-hunter/HwGBfvookbPqkQ\n",
      "artwork URL: https://artsandculture.google.com/asset/flowers-clementine-hunter/zQERekxk8d_F8g\n",
      "artwork URL: https://artsandculture.google.com/asset/crucifixion-with-angel-clementine-hunter/MwHjeBEoiNhbbQ\n",
      "artwork URL: https://artsandculture.google.com/asset/cooking-out-clementine-hunter/rQGtvTjBIYIJ6Q\n",
      "artwork URL: https://artsandculture.google.com/asset/panorama-of-baptism-on-cane-river-clementine-hunter/EwGOfLBe5vUg2g\n",
      "artwork URL: https://artsandculture.google.com/asset/floral-mosaic-5-clementine-hunter/zQGnBVJlybWfzw\n",
      "artwork URL: https://artsandculture.google.com/asset/chickens-clementine-hunter/0wEvGq3AgMynow\n",
      "artwork URL: https://artsandculture.google.com/asset/birds-and-flowers-clementine-hunter/OAHgv0AFrobJPQ\n",
      "artwork URL: https://artsandculture.google.com/asset/minding-baby-clementine-hunter/FQGa7FzDuGM0cg\n",
      "artwork URL: https://artsandculture.google.com/asset/fall-fireworks-clementine-hunter/FwEDCbEb6A9hig\n",
      "artwork URL: https://artsandculture.google.com/asset/farmlands-clementine-hunter/UwGchbC0dry5DA\n",
      "artwork URL: https://artsandculture.google.com/asset/catus-in-a-red-bowl-clementine-hunter/cAH94kfbGdPPqQ\n",
      "artwork URL: https://artsandculture.google.com/asset/flowers-in-a-jar-clementine-hunter/3gHpffPjlfmLQA\n",
      "artwork URL: https://artsandculture.google.com/asset/street-of-the-neighborhood-clementine-hunter/zAG27Fcfy4v7AQ\n",
      "artwork URL: https://artsandculture.google.com/asset/fish-in-the-ocean-clementine-hunter/_QFdEcDCjuN2Vg\n",
      "artwork URL: https://artsandculture.google.com/asset/village-no-1-clementine-hunter/XgEyBhu4t7gXZQ\n",
      "artwork URL: https://artsandculture.google.com/asset/fish-bowl-clementine-hunter/WQFNS6_tEf2jjg\n",
      "artwork URL: https://artsandculture.google.com/asset/quilt-no-2-clementine-hunter/FAH2dn3Eh8QR_Q\n",
      "artwork URL: https://artsandculture.google.com/asset/circus-clementine-hunter/AgHnJrgLFpQuCg\n",
      "artwork URL: https://artsandculture.google.com/asset/quilt-clementine-hunter/_gFkai2V-4ydag\n",
      "artwork URL: https://artsandculture.google.com/asset/feeding-birds-clementine-hunter/lwHj85ayu4zyBA\n",
      "artwork URL: https://artsandculture.google.com/asset/wash-day-clementine-hunter/rgENCOZdm4aAKw\n",
      "artwork URL: https://artsandculture.google.com/asset/birds-clementine-hunter/OQGQcPFtMUbT5Q\n",
      "CPU times: user 725 ms, sys: 129 ms, total: 854 ms\n",
      "Wall time: 35min\n"
     ]
    }
   ],
   "source": [
    "%%time \n",
    "\n",
    "# Find_artworks for each artist\n",
    "for artist_url in artist_urls:\n",
    "    with FindArtworks(artist_link=artist_url, output_dir=output_dir, \n",
    "                      min_wait_time=min_wait_time) as scraper:\n",
    "            # Save list of works, description, and metadata for an artist\n",
    "            retry(scraper.save_artist_information, max_retries, min_wait_time)\n",
    "            # Create directory for this artist\n",
    "            artist_dir = output_dir + '/' + scraper.get_wikipedia_article_title()    \n",
    "            # Get list of links to this artist's works \n",
    "            with open(artist_dir+'/'+'works.txt', 'r') as file:\n",
    "                artwork_links = [line.rstrip() for line in file]  \n",
    "    # Scrape artworks\n",
    "    with GoogleArtScraper(artist_dir + '/' + 'works', min_wait=min_wait_time) as subscraper:\n",
    "        # Go through each artwork link\n",
    "        for url in artwork_links:\n",
    "            print(f'artwork URL: {url}')\n",
    "            retry(subscraper.save_artwork_information, max_retries, min_wait_time, url)"
   ]
  },
  {
   "cell_type": "markdown",
   "id": "3519fb2e",
   "metadata": {},
   "source": [
    "# Display results"
   ]
  },
  {
   "cell_type": "markdown",
   "id": "f8cfeece",
   "metadata": {},
   "source": [
    "## Display contents of data directory"
   ]
  },
  {
   "cell_type": "code",
   "execution_count": 8,
   "id": "9f56346a",
   "metadata": {},
   "outputs": [
    {
     "name": "stdout",
     "output_type": "stream",
     "text": [
      "A._Y._Jackson  Clementine_Hunter  Hokusai\r\n"
     ]
    }
   ],
   "source": [
    "!ls data"
   ]
  },
  {
   "cell_type": "markdown",
   "id": "eff822f0",
   "metadata": {},
   "source": [
    "## Display contents of directory for one artist"
   ]
  },
  {
   "cell_type": "code",
   "execution_count": 9,
   "id": "fc4d3d90",
   "metadata": {},
   "outputs": [
    {
     "name": "stdout",
     "output_type": "stream",
     "text": [
      "description.txt  metadata.json\tworks  works.txt\r\n"
     ]
    }
   ],
   "source": [
    "!ls ./data/Clementine_Hunter"
   ]
  },
  {
   "cell_type": "markdown",
   "id": "e0921cb7",
   "metadata": {},
   "source": [
    "## Description of artist"
   ]
  },
  {
   "cell_type": "code",
   "execution_count": 10,
   "id": "38079197",
   "metadata": {},
   "outputs": [
    {
     "name": "stdout",
     "output_type": "stream",
     "text": [
      "Clementine Hunter (pronounced Clementeen; late December 1886 or early January 1887 – January 1, 1988) was a self-taught Black folk artist from the Cane River region of Louisiana, who lived and worked on Melrose Plantation.\r\n",
      "Hunter was born into a Louisiana Creole family at Hidden Hill Plantation near Cloutierville, in Natchitoches Parish, Louisiana. She started working as a farm laborer when young, and never learned to read or write. In her fifties, she began to sell her paintings, which soon gained local and national attention for their complexity in depicting Black Southern life in the early 20th century.\r\n",
      "Initially she sold her first paintings for as little as 25 cents. But by the end of her life, her work was being exhibited in museums and sold by dealers for thousands of dollars. Clementine Hunter produced an estimated 5,000 to 10,000 paintings in her lifetime. Hunter was granted an honorary Doctor of Fine Arts degree by Northwestern State University of Louisiana in 1986, and she is the first African-American artist to have a solo exhibition at the present-day New Orleans Museum of Art. In 2013, director Robert Wilson presented a new opera about her, entitled Zinnias: the Life of Clementine Hunter, at Montclair State University in New Jersey."
     ]
    }
   ],
   "source": [
    "!cat ./data/Clementine_Hunter/description.txt"
   ]
  },
  {
   "cell_type": "markdown",
   "id": "322e9c5b",
   "metadata": {},
   "source": [
    "## Metadata of artist"
   ]
  },
  {
   "cell_type": "code",
   "execution_count": 11,
   "id": "2e5ef192",
   "metadata": {},
   "outputs": [
    {
     "name": "stdout",
     "output_type": "stream",
     "text": [
      "{\"family name\": \"Hunter\", \"given name\": [\"Clementine\", \"Clementina\"], \"sex or gender\": \"female\", \"date of birth\": [\"1889-01-01\", \"1886-01-01\"], \"place of birth\": [\"Cloutierville\", \"Louisiana\"], \"latitude of place of birth\": [\"31.5433\", \"31.0\"], \"longitude of place of birth\": [\"-92.9183\", \"-92.0\"], \"date of death\": [\"1889-01-01\", \"1886-01-01\"], \"place of death\": [\"Natchitoches\", \"Natchitoches Parish\"], \"latitude of place of death\": [\"31.7431\", \"31.73\"], \"longitude of place of death\": [\"-93.095\", \"-93.1\"], \"country of citizenship\": \"United States of America\", \"residence\": \"\", \"work location\": \"\", \"genre\": \"portrait\", \"movement\": \"\", \"occupation\": [\"artist\", \"painter\"]}"
     ]
    }
   ],
   "source": [
    "!cat ./data/Clementine_Hunter/metadata.json"
   ]
  },
  {
   "cell_type": "markdown",
   "id": "63251f32",
   "metadata": {},
   "source": [
    "## Directory containing works of this artist"
   ]
  },
  {
   "cell_type": "code",
   "execution_count": 12,
   "id": "1cd0d995",
   "metadata": {},
   "outputs": [
    {
     "name": "stdout",
     "output_type": "stream",
     "text": [
      "birds-and-flowers-clementine-hunter_OAHgv0AFrobJPQ\r\n",
      "birds-clementine-hunter_OQGQcPFtMUbT5Q\r\n",
      "catus-in-a-red-bowl-clementine-hunter_cAH94kfbGdPPqQ\r\n",
      "chaleur-the-sun-gives-life-to-everything-clementine-hunter_HwGBfvookbPqkQ\r\n",
      "chevron-quilt-clementine-hunter_UQGTB4IChKZ6Qw\r\n",
      "chickens-clementine-hunter_0wEvGq3AgMynow\r\n",
      "circus-clementine-hunter_AgHnJrgLFpQuCg\r\n",
      "cooking-out-clementine-hunter_rQGtvTjBIYIJ6Q\r\n",
      "crucifixion-with-angel-clementine-hunter_MwHjeBEoiNhbbQ\r\n",
      "fall-fireworks-clementine-hunter_FwEDCbEb6A9hig\r\n",
      "farmlands-clementine-hunter_UwGchbC0dry5DA\r\n",
      "feeding-birds-clementine-hunter_lwHj85ayu4zyBA\r\n",
      "fish-bowl-clementine-hunter_WQFNS6_tEf2jjg\r\n",
      "fish-in-the-ocean-clementine-hunter__QFdEcDCjuN2Vg\r\n",
      "floral-mosaic-5-clementine-hunter_zQGnBVJlybWfzw\r\n",
      "flowers-clementine-hunter_zQERekxk8d_F8g\r\n",
      "flowers-in-a-jar-clementine-hunter_3gHpffPjlfmLQA\r\n",
      "funeral-procession-clementine-hunter_3gHi9tMtAF2big\r\n",
      "melrose-quilt-clementine-hunter_zAEML8E_JHdZBw\r\n",
      "minding-baby-clementine-hunter_FQGa7FzDuGM0cg\r\n",
      "panorama-of-baptism-on-cane-river-clementine-hunter_EwGOfLBe5vUg2g\r\n",
      "quilt-clementine-hunter__gFkai2V-4ydag\r\n",
      "quilt-no-2-clementine-hunter_FAH2dn3Eh8QR_Q\r\n",
      "street-of-the-neighborhood-clementine-hunter_zAG27Fcfy4v7AQ\r\n",
      "village-no-1-clementine-hunter_XgEyBhu4t7gXZQ\r\n",
      "wash-day-clementine-hunter_rgENCOZdm4aAKw\r\n",
      "zinnias-in-a-pot-clementine-hunter_mwGD6E7Ek5acqQ\r\n"
     ]
    }
   ],
   "source": [
    "!ls ./data/Clementine_Hunter/works"
   ]
  },
  {
   "cell_type": "markdown",
   "id": "4c20d8c2",
   "metadata": {},
   "source": [
    "## Directory containing one artwork by this artist"
   ]
  },
  {
   "cell_type": "code",
   "execution_count": 13,
   "id": "256919d3",
   "metadata": {},
   "outputs": [
    {
     "name": "stdout",
     "output_type": "stream",
     "text": [
      "artwork.png  metadata.json\r\n"
     ]
    }
   ],
   "source": [
    "!ls ./data/Clementine_Hunter/works/flowers-clementine-hunter_zQERekxk8d_F8g"
   ]
  },
  {
   "cell_type": "markdown",
   "id": "6829e0a2",
   "metadata": {},
   "source": [
    "## Display metadata for this artwork"
   ]
  },
  {
   "cell_type": "code",
   "execution_count": 14,
   "id": "b5504ef7",
   "metadata": {},
   "outputs": [
    {
     "name": "stdout",
     "output_type": "stream",
     "text": [
      "{\"main_text\": \"Oil on canvas still life painting of a vase of flowers. The brightly colored orange vase has a handle on the right side. It contains green foliage and red, yellow, orange, and white flowers. The background is a dark brownish black.\", \"title\": \"Flowers\", \"creator\": \"Clementine Hunter\", \"date created\": \"1973\", \"id\": \"zQERekxk8d_F8g\", \"link\": \"https://artsandculture.google.com/asset/flowers-clementine-hunter/zQERekxk8d_F8g\"}"
     ]
    }
   ],
   "source": [
    "!cat ./data/Clementine_Hunter/works/flowers-clementine-hunter_zQERekxk8d_F8g/metadata.json"
   ]
  },
  {
   "cell_type": "markdown",
   "id": "2810ec59",
   "metadata": {},
   "source": [
    "## Checking that too-long file/directory names now work"
   ]
  },
  {
   "cell_type": "code",
   "execution_count": 15,
   "id": "c783a9ad",
   "metadata": {},
   "outputs": [],
   "source": [
    "artwork_links = ['https://artsandculture.google.com/asset/%E5%86%A8%E5%B6%BD%E4%B8%89%E5%8D%81%E5%85%AD%E6%99%AF%E3%80%80%E7%94%B2%E5%B7%9E%E7%9F%B3%E7%8F%AD%E6%B2%A2-kajikazawa-in-kai-province-k%C5%8Dsh%C5%AB-kajikazawa-from-the-series-thirty-six-views-of-mount-fuji-fugaku-sanj%C5%ABrokkei-katsushika-hokusai/hgHQaDeXBcllwg']"
   ]
  },
  {
   "cell_type": "code",
   "execution_count": 16,
   "id": "e38b6ff7",
   "metadata": {},
   "outputs": [
    {
     "name": "stdout",
     "output_type": "stream",
     "text": [
      "artwork URL: https://artsandculture.google.com/asset/%E5%86%A8%E5%B6%BD%E4%B8%89%E5%8D%81%E5%85%AD%E6%99%AF%E3%80%80%E7%94%B2%E5%B7%9E%E7%9F%B3%E7%8F%AD%E6%B2%A2-kajikazawa-in-kai-province-k%C5%8Dsh%C5%AB-kajikazawa-from-the-series-thirty-six-views-of-mount-fuji-fugaku-sanj%C5%ABrokkei-katsushika-hokusai/hgHQaDeXBcllwg\n"
     ]
    }
   ],
   "source": [
    "with GoogleArtScraper(output_dir + '/' + 'Hokusai' + '/' + 'works', min_wait=min_wait_time) as subscraper:\n",
    "        # Go through each artwork link\n",
    "        for url in artwork_links:\n",
    "            print(f'artwork URL: {url}')\n",
    "            retry(subscraper.save_artwork_information, max_retries, min_wait_time, url)"
   ]
  },
  {
   "cell_type": "markdown",
   "id": "77f7868f",
   "metadata": {},
   "source": [
    "## Directory containing works of this artist"
   ]
  },
  {
   "cell_type": "code",
   "execution_count": 17,
   "id": "5bd7654a",
   "metadata": {},
   "outputs": [
    {
     "name": "stdout",
     "output_type": "stream",
     "text": [
      "%E5%86%A8%E5%B6%BD%E4%B8%89%E5%8D%81%E5%85%AD%E6%99%AF%E3%80%80%E7%94%B2%E5%B7%9E%E7%9F%B3%E7%8F%AD%E6%B2%A2-kajikazawa-in-kai-province-k%C5%8Dsh%C5%AB-kajikazawa-from-the-series-thirty-six-views-of-mount-fuji-fugaku-sanj%C5%ABrokkei-katsushika-hokusai_hg\r\n"
     ]
    }
   ],
   "source": [
    "!ls ./data/Hokusai/works"
   ]
  },
  {
   "cell_type": "markdown",
   "id": "2a521a4c",
   "metadata": {},
   "source": [
    "## Directory containing one artwork by this artist"
   ]
  },
  {
   "cell_type": "code",
   "execution_count": 18,
   "id": "7a85d111",
   "metadata": {},
   "outputs": [
    {
     "name": "stdout",
     "output_type": "stream",
     "text": [
      "artwork.png  metadata.json\r\n"
     ]
    }
   ],
   "source": [
    "!ls ./data/Hokusai/works/%E5%86%A8%E5%B6%BD%E4%B8%89%E5%8D%81%E5%85%AD%E6%99%AF%E3%80%80%E7%94%B2%E5%B7%9E%E7%9F%B3%E7%8F%AD%E6%B2%A2-kajikazawa-in-kai-province-k%C5%8Dsh%C5%AB-kajikazawa-from-the-series-thirty-six-views-of-mount-fuji-fugaku-sanj%C5%ABrokkei-katsushika-hokusai_hg"
   ]
  },
  {
   "cell_type": "markdown",
   "id": "76b31701",
   "metadata": {},
   "source": [
    "## Display metadata for this artwork"
   ]
  },
  {
   "cell_type": "code",
   "execution_count": 19,
   "id": "2e5d6e6d",
   "metadata": {},
   "outputs": [
    {
     "name": "stdout",
     "output_type": "stream",
     "text": [
      "{\"main_text\": \"\", \"title\": \"\\u51a8\\u5dbd\\u4e09\\u5341\\u516d\\u666f\\u3000\\u7532\\u5dde\\u77f3\\u73ed\\u6ca2|Kajikazawa in Kai Province (K\\u014dsh\\u016b Kajikazawa), from the series Thirty-six Views of Mount Fuji (Fugaku sanj\\u016brokkei)\", \"creator\": \"Katsushika Hokusai\", \"date created\": \"ca. 1830\\u201332\", \"physical dimensions\": \"10 1/4 x 15 1/8 in. (26 x 38.4 cm)\", \"type\": \"Woodblock print\", \"external link\": \" http://www.metmuseum.org/art/collection/search/39800\", \"medium\": \"Polychrome woodblock print; ink and color on paper\", \"repository\": \"Metropolitan Museum of Art, New York, NY\", \"period\": \"Edo period (1615\\u20131868)\", \"culture\": \"Japan\", \"id\": \"hgHQaDeXBcllwg\", \"link\": \"https://artsandculture.google.com/asset/%E5%86%A8%E5%B6%BD%E4%B8%89%E5%8D%81%E5%85%AD%E6%99%AF%E3%80%80%E7%94%B2%E5%B7%9E%E7%9F%B3%E7%8F%AD%E6%B2%A2-kajikazawa-in-kai-province-k%C5%8Dsh%C5%AB-kajikazawa-from-the-series-thirty-six-views-of-mount-fuji-fugaku-sanj%C5%ABrokkei-katsushika-hokusai/hgHQaDeXBcllwg\"}"
     ]
    }
   ],
   "source": [
    "!cat ./data/Hokusai/works/%E5%86%A8%E5%B6%BD%E4%B8%89%E5%8D%81%E5%85%AD%E6%99%AF%E3%80%80%E7%94%B2%E5%B7%9E%E7%9F%B3%E7%8F%AD%E6%B2%A2-kajikazawa-in-kai-province-k%C5%8Dsh%C5%AB-kajikazawa-from-the-series-thirty-six-views-of-mount-fuji-fugaku-sanj%C5%ABrokkei-katsushika-hokusai_hg/metadata.json"
   ]
  }
 ],
 "metadata": {
  "kernelspec": {
   "display_name": "Python 3 (ipykernel)",
   "language": "python",
   "name": "python3"
  },
  "language_info": {
   "codemirror_mode": {
    "name": "ipython",
    "version": 3
   },
   "file_extension": ".py",
   "mimetype": "text/x-python",
   "name": "python",
   "nbconvert_exporter": "python",
   "pygments_lexer": "ipython3",
   "version": "3.9.13"
  }
 },
 "nbformat": 4,
 "nbformat_minor": 5
}
