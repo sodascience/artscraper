{
 "cells": [
  {
   "cell_type": "markdown",
   "id": "d83d0691",
   "metadata": {},
   "source": [
    "# Collect artworks and metadata for all artists"
   ]
  },
  {
   "cell_type": "code",
   "execution_count": null,
   "id": "194ac6af",
   "metadata": {},
   "outputs": [],
   "source": [
    "import time"
   ]
  },
  {
   "cell_type": "code",
   "execution_count": null,
   "id": "8583c7c0",
   "metadata": {},
   "outputs": [],
   "source": [
    "from artscraper import GoogleArtScraper, FindArtworks, random_wait_time, retry"
   ]
  },
  {
   "cell_type": "code",
   "execution_count": null,
   "id": "c34d9016",
   "metadata": {},
   "outputs": [],
   "source": [
    "# Maximum number of attempts to perform a task \n",
    "max_retries = 3"
   ]
  },
  {
   "cell_type": "code",
   "execution_count": null,
   "id": "c7c7aed1",
   "metadata": {},
   "outputs": [],
   "source": [
    "min_wait_time = 10"
   ]
  },
  {
   "cell_type": "code",
   "execution_count": null,
   "id": "8d21abe7",
   "metadata": {},
   "outputs": [],
   "source": [
    "# Artist Clementine Hunter, 27 artworks\n",
    "artist_urls = ['https://artsandculture.google.com/entity/clementine-hunter/m0d1k7n']"
   ]
  },
  {
   "cell_type": "code",
   "execution_count": null,
   "id": "43ae9afa",
   "metadata": {},
   "outputs": [],
   "source": [
    "# Directory in which the data is to be stored\n",
    "output_dir = './data'"
   ]
  },
  {
   "cell_type": "code",
   "execution_count": null,
   "id": "eb623d6b",
   "metadata": {
    "scrolled": true
   },
   "outputs": [],
   "source": [
    "%%time \n",
    "\n",
    "# Find_artworks for each artist\n",
    "for artist_url in artist_urls:\n",
    "    with FindArtworks(artist_link=artist_url, output_dir=output_dir, \n",
    "                      min_wait_time=min_wait_time) as scraper:\n",
    "            # Save list of works, description, and metadata for an artist\n",
    "            retry(scraper.save_artist_information, max_retries, min_wait_time)\n",
    "            # Create directory for this artist\n",
    "            artist_dir = output_dir + '/' + scraper.get_wikipedia_article_title()    \n",
    "            # Get list of links to this artist's works \n",
    "            with open(artist_dir+'/'+'works.txt', 'r') as file:\n",
    "                artwork_links = [line.rstrip() for line in file]  \n",
    "    # Scrape artworks\n",
    "    with GoogleArtScraper(artist_dir + '/' + 'works', min_wait=min_wait_time) as subscraper:\n",
    "        # Go through each artwork link\n",
    "        for url in artwork_links:\n",
    "            print(f'artwork URL: {url}')\n",
    "            retry(subscraper.save_artwork_information, max_retries, min_wait_time, url)"
   ]
  },
  {
   "cell_type": "code",
   "execution_count": null,
   "id": "aaf2acf7",
   "metadata": {},
   "outputs": [],
   "source": [
    "len(artwork_links)"
   ]
  },
  {
   "cell_type": "markdown",
   "id": "3519fb2e",
   "metadata": {},
   "source": [
    "# Display results"
   ]
  },
  {
   "cell_type": "markdown",
   "id": "f8cfeece",
   "metadata": {},
   "source": [
    "## Display contents of data directory"
   ]
  },
  {
   "cell_type": "code",
   "execution_count": null,
   "id": "9f56346a",
   "metadata": {},
   "outputs": [],
   "source": [
    "!ls data"
   ]
  },
  {
   "cell_type": "markdown",
   "id": "eff822f0",
   "metadata": {},
   "source": [
    "## Display contents of directory for one artist"
   ]
  },
  {
   "cell_type": "code",
   "execution_count": null,
   "id": "fc4d3d90",
   "metadata": {},
   "outputs": [],
   "source": [
    "!ls ./data/Clementine_Hunter"
   ]
  },
  {
   "cell_type": "markdown",
   "id": "e0921cb7",
   "metadata": {},
   "source": [
    "## Description of artist"
   ]
  },
  {
   "cell_type": "code",
   "execution_count": null,
   "id": "38079197",
   "metadata": {},
   "outputs": [],
   "source": [
    "!cat ./data/Clementine_Hunter/description.txt"
   ]
  },
  {
   "cell_type": "markdown",
   "id": "322e9c5b",
   "metadata": {},
   "source": [
    "## Metadata of artist"
   ]
  },
  {
   "cell_type": "code",
   "execution_count": null,
   "id": "2e5ef192",
   "metadata": {},
   "outputs": [],
   "source": [
    "!cat ./data/Clementine_Hunter/metadata.json"
   ]
  },
  {
   "cell_type": "markdown",
   "id": "63251f32",
   "metadata": {},
   "source": [
    "## Directory containing works of this artist"
   ]
  },
  {
   "cell_type": "code",
   "execution_count": null,
   "id": "1cd0d995",
   "metadata": {},
   "outputs": [],
   "source": [
    "!ls ./data/Clementine_Hunter/works"
   ]
  },
  {
   "cell_type": "markdown",
   "id": "4c20d8c2",
   "metadata": {},
   "source": [
    "## Directory containing one artwork by this artist"
   ]
  },
  {
   "cell_type": "code",
   "execution_count": null,
   "id": "256919d3",
   "metadata": {},
   "outputs": [],
   "source": [
    "!ls ./data/Clementine_Hunter/works/flowers-clementine-hunter_zQERekxk8d_F8g"
   ]
  },
  {
   "cell_type": "markdown",
   "id": "6829e0a2",
   "metadata": {},
   "source": [
    "## Display metadata for this artwork"
   ]
  },
  {
   "cell_type": "code",
   "execution_count": null,
   "id": "b5504ef7",
   "metadata": {},
   "outputs": [],
   "source": [
    "!cat ./data/Clementine_Hunter/works/flowers-clementine-hunter_zQERekxk8d_F8g/metadata.json"
   ]
  },
  {
   "cell_type": "markdown",
   "id": "2810ec59",
   "metadata": {},
   "source": [
    "## Checking that too-long file/directory names now work"
   ]
  },
  {
   "cell_type": "code",
   "execution_count": null,
   "id": "c783a9ad",
   "metadata": {},
   "outputs": [],
   "source": [
    "artwork_links = ['https://artsandculture.google.com/asset/%E5%86%A8%E5%B6%BD%E4%B8%89%E5%8D%81%E5%85%AD%E6%99%AF%E3%80%80%E7%94%B2%E5%B7%9E%E7%9F%B3%E7%8F%AD%E6%B2%A2-kajikazawa-in-kai-province-k%C5%8Dsh%C5%AB-kajikazawa-from-the-series-thirty-six-views-of-mount-fuji-fugaku-sanj%C5%ABrokkei-katsushika-hokusai/hgHQaDeXBcllwg']"
   ]
  },
  {
   "cell_type": "code",
   "execution_count": null,
   "id": "e38b6ff7",
   "metadata": {},
   "outputs": [],
   "source": [
    "with GoogleArtScraper(output_dir + '/' + 'Hokusai' + '/' + 'works', min_wait=min_wait_time) as subscraper:\n",
    "        # Go through each artwork link\n",
    "        for url in artwork_links:\n",
    "            print(f'artwork URL: {url}')\n",
    "            retry(subscraper.save_artwork_information, max_retries, min_wait_time, url)"
   ]
  },
  {
   "cell_type": "markdown",
   "id": "77f7868f",
   "metadata": {},
   "source": [
    "## Directory containing works of this artist"
   ]
  },
  {
   "cell_type": "code",
   "execution_count": null,
   "id": "5bd7654a",
   "metadata": {},
   "outputs": [],
   "source": [
    "!ls ./data/Hokusai/works"
   ]
  },
  {
   "cell_type": "markdown",
   "id": "2a521a4c",
   "metadata": {},
   "source": [
    "## Directory containing one artwork by this artist"
   ]
  },
  {
   "cell_type": "code",
   "execution_count": null,
   "id": "7a85d111",
   "metadata": {},
   "outputs": [],
   "source": [
    "!ls ./data/Hokusai/works/%E5%86%A8%E5%B6%BD%E4%B8%89%E5%8D%81%E5%85%AD%E6%99%AF%E3%80%80%E7%94%B2%E5%B7%9E%E7%9F%B3%E7%8F%AD%E6%B2%A2-kajikazawa-in-kai-province-k%C5%8Dsh%C5%AB-kajikazawa-from-the-series-thirty-six-views-of-mount-fuji-fugaku-sanj%C5%ABrokkei-katsushika-hokusai_hg"
   ]
  },
  {
   "cell_type": "markdown",
   "id": "76b31701",
   "metadata": {},
   "source": [
    "## Display metadata for this artwork"
   ]
  },
  {
   "cell_type": "code",
   "execution_count": null,
   "id": "2e5d6e6d",
   "metadata": {},
   "outputs": [],
   "source": [
    "!cat ./data/Hokusai/works/%E5%86%A8%E5%B6%BD%E4%B8%89%E5%8D%81%E5%85%AD%E6%99%AF%E3%80%80%E7%94%B2%E5%B7%9E%E7%9F%B3%E7%8F%AD%E6%B2%A2-kajikazawa-in-kai-province-k%C5%8Dsh%C5%AB-kajikazawa-from-the-series-thirty-six-views-of-mount-fuji-fugaku-sanj%C5%ABrokkei-katsushika-hokusai_hg/metadata.json"
   ]
  }
 ],
 "metadata": {
  "kernelspec": {
   "display_name": "Python 3 (ipykernel)",
   "language": "python",
   "name": "python3"
  },
  "language_info": {
   "codemirror_mode": {
    "name": "ipython",
    "version": 3
   },
   "file_extension": ".py",
   "mimetype": "text/x-python",
   "name": "python",
   "nbconvert_exporter": "python",
   "pygments_lexer": "ipython3",
   "version": "3.9.13"
  }
 },
 "nbformat": 4,
 "nbformat_minor": 5
}
