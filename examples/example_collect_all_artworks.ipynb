{
 "cells": [
  {
   "cell_type": "markdown",
   "id": "9b42eac8",
   "metadata": {},
   "source": [
    "# Find links to Google Arts & Culture webpages of all artists"
   ]
  },
  {
   "cell_type": "code",
   "execution_count": 1,
   "id": "229a67a1",
   "metadata": {},
   "outputs": [],
   "source": [
    "from artscraper import get_artist_links"
   ]
  },
  {
   "cell_type": "code",
   "execution_count": 2,
   "id": "77cd3e7d",
   "metadata": {},
   "outputs": [],
   "source": [
    "# Get links for all artists, as a list\n",
    "artist_urls = get_artist_links(executable_path='geckodriver', min_wait_time=1, output_file='artist_links.txt')"
   ]
  },
  {
   "cell_type": "markdown",
   "id": "d83d0691",
   "metadata": {},
   "source": [
    "# Collect artworks and metadata for all artists"
   ]
  },
  {
   "cell_type": "code",
   "execution_count": 3,
   "id": "8583c7c0",
   "metadata": {},
   "outputs": [],
   "source": [
    "from artscraper import GoogleArtScraper, FindArtworks"
   ]
  },
  {
   "cell_type": "code",
   "execution_count": 4,
   "id": "c3a16846",
   "metadata": {},
   "outputs": [],
   "source": [
    "# Small subset of artist links, for illustration purposes\n",
    "# (3 artists, each with < 5 artworks)\n",
    "artist_urls = ['https://artsandculture.google.com/entity/william-notman/m04mpzj',\n",
    "               'https://artsandculture.google.com/entity/alexander-keirincx/m03cxjmm',\n",
    "               'https://artsandculture.google.com/entity/abraham-lambertsz-van-den-tempel/m09g78pg'\n",
    "            ]"
   ]
  },
  {
   "cell_type": "code",
   "execution_count": 5,
   "id": "43ae9afa",
   "metadata": {},
   "outputs": [],
   "source": [
    "# Directory in which the data is to be stored\n",
    "output_dir = './data'"
   ]
  },
  {
   "cell_type": "code",
   "execution_count": 6,
   "id": "2be1700c",
   "metadata": {},
   "outputs": [
    {
     "name": "stdout",
     "output_type": "stream",
     "text": [
      "CPU times: user 362 ms, sys: 76.3 ms, total: 438 ms\n",
      "Wall time: 1min 50s\n"
     ]
    }
   ],
   "source": [
    "%%time \n",
    "\n",
    "# Find_artworks for each artist\n",
    "for artist_url in artist_urls:\n",
    "    with FindArtworks(artist_link=artist_url, output_dir=output_dir, min_wait_time=1) as scraper:\n",
    "            # Save list of works, description, and metadata for an artist\n",
    "            scraper.save_artist_information()\n",
    "            # Get list of links to this artist's works \n",
    "            artwork_links = scraper.get_artist_works()\n",
    "            # Create directory for this artist\n",
    "            artist_dir = output_dir + '/' + scraper.get_wikipedia_article_title()\n",
    "    # Scrape artworks\n",
    "    with GoogleArtScraper(artist_dir + '/' + 'works', min_wait=1) as subscraper:\n",
    "        # Go through each artwork link\n",
    "        for url in artwork_links:\n",
    "            subscraper.load_link(url)\n",
    "            subscraper.save_metadata()\n",
    "            subscraper.save_image()"
   ]
  },
  {
   "cell_type": "markdown",
   "id": "ca18d30b",
   "metadata": {},
   "source": [
    "# Display results"
   ]
  },
  {
   "cell_type": "markdown",
   "id": "618ee2d6",
   "metadata": {},
   "source": [
    "### Display contents of data directory"
   ]
  },
  {
   "cell_type": "code",
   "execution_count": 7,
   "id": "ec469791",
   "metadata": {},
   "outputs": [
    {
     "name": "stdout",
     "output_type": "stream",
     "text": [
      "Abraham_Lambertsz_van_den_Tempel  Alexander_Keirincx  William_Notman\r\n"
     ]
    }
   ],
   "source": [
    "!ls data"
   ]
  },
  {
   "cell_type": "markdown",
   "id": "dd69f5bc",
   "metadata": {},
   "source": [
    "### Display contents of directory for one artist"
   ]
  },
  {
   "cell_type": "code",
   "execution_count": 8,
   "id": "2281a5c7",
   "metadata": {},
   "outputs": [
    {
     "name": "stdout",
     "output_type": "stream",
     "text": [
      "description.txt  metadata.txt  works  works.txt\r\n"
     ]
    }
   ],
   "source": [
    "!ls ./data/Abraham_Lambertsz_van_den_Tempel/"
   ]
  },
  {
   "cell_type": "markdown",
   "id": "627f3f6b",
   "metadata": {},
   "source": [
    "### Description of artist"
   ]
  },
  {
   "cell_type": "code",
   "execution_count": 9,
   "id": "4afad02b",
   "metadata": {},
   "outputs": [
    {
     "name": "stdout",
     "output_type": "stream",
     "text": [
      "Abraham van den Tempel (c.1622 – 8 October 1672) was a Dutch Golden Age painter."
     ]
    }
   ],
   "source": [
    "!cat ./data/Abraham_Lambertsz_van_den_Tempel/description.txt"
   ]
  },
  {
   "cell_type": "markdown",
   "id": "ac2e3754",
   "metadata": {},
   "source": [
    "### Metadata of artist"
   ]
  },
  {
   "cell_type": "code",
   "execution_count": 10,
   "id": "0d0806f7",
   "metadata": {},
   "outputs": [
    {
     "name": "stdout",
     "output_type": "stream",
     "text": [
      "family name : \r\n",
      "given name : Abraham\r\n",
      "sex or gender : male\r\n",
      "date of birth : 1622-01-01\r\n",
      "place of birth : Leeuwarden\r\n",
      "latitude of place of birth : 53.2\r\n",
      "longitude of place of birth : 5.783333333\r\n",
      "date of death : 1672-10-08\r\n",
      "place of death : Amsterdam\r\n",
      "latitude of place of death : 52.372777777\r\n",
      "longitude of place of death : 4.893611111\r\n",
      "country of citizenship : ['Netherlands']\r\n",
      "residence : []\r\n",
      "work location : ['Amsterdam', 'Leeuwarden', 'Leiden']\r\n",
      "genre : ['portrait']\r\n",
      "movement : ['Baroque']\r\n"
     ]
    }
   ],
   "source": [
    "!cat ./data/Abraham_Lambertsz_van_den_Tempel/metadata.txt"
   ]
  },
  {
   "cell_type": "markdown",
   "id": "2f128b4b",
   "metadata": {},
   "source": [
    "### Directory containing works of this artist"
   ]
  },
  {
   "cell_type": "code",
   "execution_count": 11,
   "id": "54afc420",
   "metadata": {},
   "outputs": [
    {
     "name": "stdout",
     "output_type": "stream",
     "text": [
      "portrait-of-albertine-agnes-of-nassau-with-her-three-children-abraham-van-den-tempel_6QF1KLTiJcR9Lw\r\n",
      "portrait-of-helena-grondt-1613-14-after-1665-tempel-abraham-van-den_mQEfvvPkgk-P8w\r\n",
      "portrait-of-jan-antonides-van-der-linden-1609-1664-tempel-abraham-van-den_YAE0h4rEulJiRQ\r\n",
      "the-finding-of-moses-bartholomeus-breenbergh_KwHTcCRlV5LJ9g\r\n"
     ]
    }
   ],
   "source": [
    "!ls ./data/Abraham_Lambertsz_van_den_Tempel/works"
   ]
  },
  {
   "cell_type": "markdown",
   "id": "caab7ba3",
   "metadata": {},
   "source": [
    "### Directory containing one artwork by this artist"
   ]
  },
  {
   "cell_type": "code",
   "execution_count": 12,
   "id": "4d07d9f1",
   "metadata": {},
   "outputs": [
    {
     "name": "stdout",
     "output_type": "stream",
     "text": [
      "artwork.png  metadata.json\r\n"
     ]
    }
   ],
   "source": [
    "!ls ./data/Abraham_Lambertsz_van_den_Tempel/works/the-finding-of-moses-bartholomeus-breenbergh_KwHTcCRlV5LJ9g/"
   ]
  },
  {
   "cell_type": "markdown",
   "id": "3f2374c0",
   "metadata": {},
   "source": [
    "### Display the artwork"
   ]
  },
  {
   "cell_type": "code",
   "execution_count": 13,
   "id": "5ed9b3b7",
   "metadata": {},
   "outputs": [],
   "source": [
    "from matplotlib import pyplot as plt\n",
    "import matplotlib.image as mpimg"
   ]
  },
  {
   "cell_type": "code",
   "execution_count": 14,
   "id": "8f4e1e93",
   "metadata": {},
   "outputs": [],
   "source": [
    "img = mpimg.imread(\"./data/Abraham_Lambertsz_van_den_Tempel/works/the-finding-of-moses-bartholomeus-breenbergh_KwHTcCRlV5LJ9g/artwork.png\")\n",
    "plt.imshow(img)\n",
    "plt.show()"
   ]
  },
  {
   "cell_type": "markdown",
   "id": "57555f04",
   "metadata": {},
   "source": [
    "### Display metadata for this artwork"
   ]
  },
  {
   "cell_type": "code",
   "execution_count": 15,
   "id": "b02d3f00",
   "metadata": {},
   "outputs": [
    {
     "name": "stdout",
     "output_type": "stream",
     "text": [
      "{\"main_text\": \"This is the earliest signed and dated painting by Breenbergh and so is a key work for our knowledge of his early years in Italy. He had arrived in Rome late in 1619 and was to remain there for ten years. This exquisiste small copper panel display the profound influence on the young Bereenbergh of Jacob Pynas, who had left Rome to return to Holland in 1608 but whose influence on young Dutch artists was still pervasive. The antique building on the rocky hillside is the Tempel of the Sibyl at Tivoli, which was often drawn by Northern artists, including Breenbergh. The painting is signed B Breenborch (BB as monogramme) F.ao 1622.\", \"title\": \"The Finding of Moses\", \"creator\": \"Bartholomeus Breenbergh\", \"date created\": \"1622\", \"tags\": \"Dutch\", \"provenance\": \"Fredrik M\\u00fcller & Cie., Amsterdam, C.U.Palm, Bukowskis, Stockholm, Wilhelmina von Hallwyl, Stockholm 1904\", \"physical dimensions\": \"w250 x h185 mm (Without frame)\", \"painter\": \"Bartholomeus Breenbergh\", \"artist info\": \"Breenbergh established himself in Amsterdam and then in 1619 went to Rome. There he lived and worked with the Flemish painter Frans van de Kasteele and was heavily influenced by another Fleming, the landscape painter Paul Bril. From 1623, however, he came completely under the spell of Italian landscapes by the somewhat older Cornelis van Poelenburgh \\u2014indeed, the works of Breenbergh and van Poelenburgh are sometimes very difficult of tell apart. Breenbergh in his turn influenced the French painter Claude Lorrain. In 1633 he returned to Amsterdam, where he remained until his death, and where he made paintings and etchings of Italian buildings.\", \"type\": \"Oil on copper\", \"external link\": \" Image DIG 4494\", \"id\": \"KwHTcCRlV5LJ9g\", \"link\": \"https://artsandculture.google.com/asset/the-finding-of-moses-bartholomeus-breenbergh/KwHTcCRlV5LJ9g\"}"
     ]
    }
   ],
   "source": [
    "!cat ./data/Abraham_Lambertsz_van_den_Tempel/works/the-finding-of-moses-bartholomeus-breenbergh_KwHTcCRlV5LJ9g/metadata.json"
   ]
  }
 ],
 "metadata": {
  "kernelspec": {
   "display_name": "Python 3 (ipykernel)",
   "language": "python",
   "name": "python3"
  },
  "language_info": {
   "codemirror_mode": {
    "name": "ipython",
    "version": 3
   },
   "file_extension": ".py",
   "mimetype": "text/x-python",
   "name": "python",
   "nbconvert_exporter": "python",
   "pygments_lexer": "ipython3",
   "version": "3.9.13"
  }
 },
 "nbformat": 4,
 "nbformat_minor": 5
}
