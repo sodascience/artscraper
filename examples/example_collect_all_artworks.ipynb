{
 "cells": [
  {
   "cell_type": "markdown",
   "id": "9b42eac8",
   "metadata": {},
   "source": [
    "# Find links to Google Arts & Culture webpages of all artists"
   ]
  },
  {
   "cell_type": "code",
   "execution_count": 1,
   "id": "229a67a1",
   "metadata": {},
   "outputs": [],
   "source": [
    "from artscraper import get_artist_links"
   ]
  },
  {
   "cell_type": "raw",
   "id": "3718c2c0",
   "metadata": {},
   "source": [
    "# Get links for all artists, as a list\n",
    "artist_urls = get_artist_links(executable_path='geckodriver', min_wait_time=1, output_file='artist_links.txt')"
   ]
  },
  {
   "cell_type": "markdown",
   "id": "d83d0691",
   "metadata": {},
   "source": [
    "# Collect artworks and metadata for all artists"
   ]
  },
  {
   "cell_type": "code",
   "execution_count": 2,
   "id": "dadfbb4d",
   "metadata": {},
   "outputs": [],
   "source": [
    "from artscraper import GoogleArtScraper, FindArtworks, random_wait_time, retry"
   ]
  },
  {
   "cell_type": "code",
   "execution_count": 3,
   "id": "c3a16846",
   "metadata": {},
   "outputs": [],
   "source": [
    "# Sample artist link, for illustration purposes\n",
    "artist_urls = ['https://artsandculture.google.com/entity/jan-van-der-heyden/m05g5_1']"
   ]
  },
  {
   "cell_type": "code",
   "execution_count": 4,
   "id": "bba4ec54",
   "metadata": {},
   "outputs": [],
   "source": [
    "# Maximum number of attempts to perform a task \n",
    "max_retries = 3\n",
    "# Minimum time (in seconds) to wait before retrying\n",
    "min_wait_time = 10"
   ]
  },
  {
   "cell_type": "code",
   "execution_count": 5,
   "id": "43ae9afa",
   "metadata": {},
   "outputs": [],
   "source": [
    "# Directory in which the data is to be stored\n",
    "output_dir = './data'"
   ]
  },
  {
   "cell_type": "code",
   "execution_count": 6,
   "id": "09a90d85",
   "metadata": {},
   "outputs": [
    {
     "name": "stdout",
     "output_type": "stream",
     "text": [
      "artwork URL: https://artsandculture.google.com/asset/country-house-on-the-vliet-near-delft-jan-van-de-heyden/3wEgj7D5Ld8nvg\n",
      "artwork URL: https://artsandculture.google.com/asset/view-of-oudezijds-voorburgwal-with-the-oude-kerk-in-amsterdam-heyden-jan-van-der/vQEPZWhUPsTvug\n",
      "artwork URL: https://artsandculture.google.com/asset/the-church-at-veere-heyden-jan-van-der/XQHpRNPhfg_b8w\n",
      "artwork URL: https://artsandculture.google.com/asset/still-life-with-a-bible-heyden-jan-van-der/RAFzBDOd_l112w\n",
      "artwork URL: https://artsandculture.google.com/asset/the-church-of-st-andrew-in-d%C3%BCsseldorf-heyden-jan-van-der/rQF8z3SnAqnqLA\n",
      "artwork URL: https://artsandculture.google.com/asset/country-house-on-the-vliet-near-delft-jan-van-de-heyden/3wEgj7D5Ld8nvg\n",
      "artwork URL: https://artsandculture.google.com/asset/two-churches-and-a-town-wall/mQFHELQcfKrcdw\n",
      "CPU times: user 138 ms, sys: 59.9 ms, total: 198 ms\n",
      "Wall time: 10.5 s\n"
     ]
    }
   ],
   "source": [
    "%%time \n",
    "\n",
    "# Find_artworks for each artist\n",
    "for artist_url in artist_urls:\n",
    "    with FindArtworks(artist_link=artist_url, output_dir=output_dir, \n",
    "                      min_wait_time=min_wait_time) as scraper:\n",
    "            # Save list of works, description, and metadata for an artist\n",
    "            retry(scraper.save_artist_information, max_retries, min_wait_time)\n",
    "            # Create directory for this artist\n",
    "            artist_dir = output_dir + '/' + scraper.get_artist_name() \n",
    "            # Get list of links to this artist's works \n",
    "            with open(artist_dir+'/'+'works.txt', 'r') as file:\n",
    "                artwork_links = [line.rstrip() for line in file]  \n",
    "    # Scrape artworks\n",
    "    with GoogleArtScraper(artist_dir + '/' + 'works', min_wait=min_wait_time) as subscraper:\n",
    "        # Go through each artwork link\n",
    "        for url in artwork_links:\n",
    "            print(f'artwork URL: {url}')\n",
    "            retry(subscraper.save_artwork_information, max_retries, min_wait_time, url)"
   ]
  },
  {
   "cell_type": "markdown",
   "id": "ca18d30b",
   "metadata": {},
   "source": [
    "# Display results"
   ]
  },
  {
   "cell_type": "markdown",
   "id": "618ee2d6",
   "metadata": {},
   "source": [
    "### Display contents of data directory"
   ]
  },
  {
   "cell_type": "code",
   "execution_count": 7,
   "id": "ec469791",
   "metadata": {},
   "outputs": [
    {
     "name": "stdout",
     "output_type": "stream",
     "text": [
      "Jan_Van_Der_Heyden\r\n"
     ]
    }
   ],
   "source": [
    "!ls data"
   ]
  },
  {
   "cell_type": "markdown",
   "id": "dd69f5bc",
   "metadata": {},
   "source": [
    "### Display contents of directory for one artist"
   ]
  },
  {
   "cell_type": "code",
   "execution_count": 8,
   "id": "2281a5c7",
   "metadata": {},
   "outputs": [
    {
     "name": "stdout",
     "output_type": "stream",
     "text": [
      "description.txt  metadata.json\tworks  works.txt\r\n"
     ]
    }
   ],
   "source": [
    "!ls ./data/Jan_Van_Der_Heyden/"
   ]
  },
  {
   "cell_type": "markdown",
   "id": "627f3f6b",
   "metadata": {},
   "source": [
    "### Description of artist"
   ]
  },
  {
   "cell_type": "code",
   "execution_count": 9,
   "id": "4afad02b",
   "metadata": {},
   "outputs": [
    {
     "name": "stdout",
     "output_type": "stream",
     "text": [
      "Jan van der Heyden (5 March 1637, Gorinchem – 28 March 1712, Amsterdam) was a Dutch Baroque-era painter, glass painter, draughtsman and printmaker. Van der Heyden was one of the first Dutch painters to specialize in townscapes and became one of the leading architectural painters of the Dutch Golden Age.  He painted a number of still lifes in the beginning and at the end of his career.Jan van der Heyden was also an engineer and inventor who made significant contributions to contemporary firefighting technology. Together  with his brother Nicolaes, who was a hydraulic engineer, he invented an improvement of the fire hose in 1672. He modified the manual fire engine, reorganised the volunteer fire brigade (1685) and wrote and illustrated the first firefighting manual (Brandspuiten-boek). A comprehensive street lighting scheme for Amsterdam, designed and implemented by van der Heyden, remained in operation from 1669 until 1840 and was adopted as a model by many other towns and abroad."
     ]
    }
   ],
   "source": [
    "!cat ./data/Jan_Van_Der_Heyden/description.txt"
   ]
  },
  {
   "cell_type": "markdown",
   "id": "ac2e3754",
   "metadata": {},
   "source": [
    "### Metadata of artist"
   ]
  },
  {
   "cell_type": "code",
   "execution_count": 10,
   "id": "0d0806f7",
   "metadata": {},
   "outputs": [
    {
     "name": "stdout",
     "output_type": "stream",
     "text": [
      "{\"family name\": \"Van der Heyden\", \"given name\": \"Jan\", \"pseudonym\": \"\", \"sex or gender\": \"male\", \"date of birth\": \"1637-03-05\", \"place of birth\": \"Gorinchem\", \"latitude of place of birth\": \"51.83652\", \"longitude of place of birth\": \"4.97243\", \"date of death\": \"1712-03-28\", \"place of death\": \"Amsterdam\", \"latitude of place of death\": \"52.372777777\", \"longitude of place of death\": \"4.893611111\", \"country of citizenship\": \"Netherlands\", \"residence\": \"\", \"work location\": \"Amsterdam\", \"genre\": \"landscape art\", \"movement\": \"\", \"occupation\": [\"firefighter\", \"inventor\", \"painter\", \"instrument maker\", \"printmaker\"]}"
     ]
    }
   ],
   "source": [
    "!cat ./data/Jan_Van_Der_Heyden/metadata.json"
   ]
  },
  {
   "cell_type": "markdown",
   "id": "2f128b4b",
   "metadata": {},
   "source": [
    "### Directory containing works of this artist"
   ]
  },
  {
   "cell_type": "code",
   "execution_count": 11,
   "id": "54afc420",
   "metadata": {},
   "outputs": [
    {
     "name": "stdout",
     "output_type": "stream",
     "text": [
      "country-house-on-the-vliet-near-delft-jan-van-de-heyden_3wEgj7D5Ld8nvg\r\n",
      "still-life-with-a-bible-heyden-jan-van-der_RAFzBDOd_l112w\r\n",
      "the-church-at-veere-heyden-jan-van-der_XQHpRNPhfg_b8w\r\n",
      "the-church-of-st-andrew-in-düsseldorf-heyden-jan-van-der_rQF8z3SnAqnqLA\r\n",
      "two-churches-and-a-town-wall_mQFHELQcfKrcdw\r\n",
      "view-of-oudezijds-voorburgwal-with-the-oude-kerk-in-amsterdam-heyden-jan-van-der_vQEPZWhUPsTvug\r\n"
     ]
    }
   ],
   "source": [
    "!ls ./data/Jan_Van_Der_Heyden/works"
   ]
  },
  {
   "cell_type": "markdown",
   "id": "caab7ba3",
   "metadata": {},
   "source": [
    "### Directory containing one artwork by this artist"
   ]
  },
  {
   "cell_type": "code",
   "execution_count": 12,
   "id": "4d07d9f1",
   "metadata": {},
   "outputs": [
    {
     "name": "stdout",
     "output_type": "stream",
     "text": [
      "artwork.png  metadata.json\r\n"
     ]
    }
   ],
   "source": [
    "!ls ./data/Jan_Van_Der_Heyden/works/country-house-on-the-vliet-near-delft-jan-van-de-heyden_3wEgj7D5Ld8nvg"
   ]
  },
  {
   "cell_type": "markdown",
   "id": "3f2374c0",
   "metadata": {},
   "source": [
    "### Display the artwork"
   ]
  },
  {
   "cell_type": "code",
   "execution_count": 13,
   "id": "5ed9b3b7",
   "metadata": {},
   "outputs": [],
   "source": [
    "from matplotlib import pyplot as plt\n",
    "import matplotlib.image as mpimg"
   ]
  },
  {
   "cell_type": "raw",
   "id": "9ca0fb7e",
   "metadata": {},
   "source": [
    "img = mpimg.imread(\"./data/Jan_Van_Der_Heyden/works/country-house-on-the-vliet-near-delft-jan-van-de-heyden_3wEgj7D5Ld8nvg/artwork.png\")\n",
    "plt.imshow(img)\n",
    "plt.show()"
   ]
  },
  {
   "cell_type": "markdown",
   "id": "57555f04",
   "metadata": {},
   "source": [
    "### Display metadata for this artwork"
   ]
  },
  {
   "cell_type": "code",
   "execution_count": 14,
   "id": "b02d3f00",
   "metadata": {},
   "outputs": [
    {
     "name": "stdout",
     "output_type": "stream",
     "text": [
      "{\"main_text\": \"The country house in the right middle ground has been identified as one which used to lie on the river Vliet, running between Delft and The Hague. Though this is possible, the house does not seem sufficiently distinctive to permit such a specific identification. This scene, however, depicts a fashionable part of Holland in the seventeenth century: a navigable canal or river with a well-kept towpath and a considerable volume of freight traffic. Lining the water are houses with plots of land extending into the flat, low-lying, fertile, reclaimed land. There is an alternation of elegant farmhouses, like the one with a stepped gable and hayrick, and buitenplaatsen (country houses), like the one nearer to us, with its ionic pilasters and dormer windows with scroll surrounds (as opposed to the more traditional gables). This house has a stone gate and a topiary hedge with claire-vues and an avenue of trees. Audrey Lambert reproduces a 1770 map of Rijswijk, between Delft and The Hague, which still shows exactly this alternation of simple plots and formal gardens extending into the polders on either side of the Vliet and nearby roads. This image by Heyden (1637-1712) is notable for its restrained depiction of evening light, with more white than gold in the spectrum and just a hint of pink in some of the clouds. But it is the vivid naturalism of the scene, with its matter-of-fact viewpoint, recording a public thoroughfare with no deference to the country house, which so remarkably anticipates the landscapes of the Impressionists. It is also possible that Constable had seen this painting when he painted his Scene on a Navigable River in 1816-17 (Tate, London), with its sparkling pointillist touch and scrupulous record of a working inland waterway.\", \"title\": \"Country House on the Vliet near Delft\", \"creator\": \"Jan van de Heyden\", \"creator lifespan\": \"1637 - 1712\", \"date created\": \"1665\", \"type\": \"Painting\", \"rights\": \"Supplied by Royal Collection Trust / (c) HM Queen Elizabeth II 2012\", \"external link\": \" http://www.rct.uk/collection/405948\", \"medium\": \"Oil on panel\", \"provenance\": \"Acquired by George IV when Prince Regent, 1814\", \"object description\": \"Beside a canal runs a road on which a huntsman walks his dog, with a country house & an outbuilding on the right; a mother and her children are seated by the road; in the centre a barge is moored to a landing-stage.\", \"id\": \"3wEgj7D5Ld8nvg\", \"link\": \"https://artsandculture.google.com/asset/country-house-on-the-vliet-near-delft-jan-van-de-heyden/3wEgj7D5Ld8nvg\"}"
     ]
    }
   ],
   "source": [
    "!cat ./data/Jan_Van_Der_Heyden/works/country-house-on-the-vliet-near-delft-jan-van-de-heyden_3wEgj7D5Ld8nvg/metadata.json"
   ]
  }
 ],
 "metadata": {
  "kernelspec": {
   "display_name": "Python 3 (ipykernel)",
   "language": "python",
   "name": "python3"
  },
  "language_info": {
   "codemirror_mode": {
    "name": "ipython",
    "version": 3
   },
   "file_extension": ".py",
   "mimetype": "text/x-python",
   "name": "python",
   "nbconvert_exporter": "python",
   "pygments_lexer": "ipython3",
   "version": "3.9.13"
  }
 },
 "nbformat": 4,
 "nbformat_minor": 5
}
