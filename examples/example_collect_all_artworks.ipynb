{
 "cells": [
  {
   "cell_type": "markdown",
   "id": "9b42eac8",
   "metadata": {},
   "source": [
    "# Find links to Google Arts & Culture webpages of all artists"
   ]
  },
  {
   "cell_type": "code",
   "execution_count": 1,
   "id": "229a67a1",
   "metadata": {},
   "outputs": [],
   "source": [
    "from artscraper import get_artist_links"
   ]
  },
  {
   "cell_type": "code",
   "execution_count": 2,
   "id": "77cd3e7d",
   "metadata": {},
   "outputs": [],
   "source": [
    "# Get links for all artists, as a list\n",
    "#artist_urls = get_artist_links(executable_path='geckodriver', min_wait_time=1, output_file='artist_links.txt')"
   ]
  },
  {
   "cell_type": "markdown",
   "id": "d83d0691",
   "metadata": {},
   "source": [
    "# Collect artworks and metadata for all artists"
   ]
  },
  {
   "cell_type": "code",
   "execution_count": 3,
   "id": "8583c7c0",
   "metadata": {},
   "outputs": [],
   "source": [
    "from artscraper import GoogleArtScraper, FindArtworks"
   ]
  },
  {
   "cell_type": "code",
   "execution_count": 4,
   "id": "c3a16846",
   "metadata": {},
   "outputs": [],
   "source": [
    "# Small subset of artist links, for illustration purposes\n",
    "# (3 artists, each with < 5 artworks)\n",
    "artist_urls = ['https://artsandculture.google.com/entity/william-notman/m04mpzj',\n",
    "               'https://artsandculture.google.com/entity/alexander-keirincx/m03cxjmm',\n",
    "               'https://artsandculture.google.com/entity/abraham-lambertsz-van-den-tempel/m09g78pg'\n",
    "            ]"
   ]
  },
  {
   "cell_type": "code",
   "execution_count": null,
   "id": "d14d1556",
   "metadata": {},
   "outputs": [],
   "source": [
    "with open(\"\") as my_file:\n",
    "    print(my_file.read())"
   ]
  },
  {
   "cell_type": "code",
   "execution_count": 5,
   "id": "43ae9afa",
   "metadata": {},
   "outputs": [],
   "source": [
    "# Directory in which the data is to be stored\n",
    "output_dir = './data'"
   ]
  },
  {
   "cell_type": "code",
   "execution_count": 6,
   "id": "2be1700c",
   "metadata": {},
   "outputs": [
    {
     "name": "stdout",
     "output_type": "stream",
     "text": [
      "CPU times: user 389 ms, sys: 37.9 ms, total: 427 ms\n",
      "Wall time: 10min 18s\n"
     ]
    }
   ],
   "source": [
    "%%time \n",
    "\n",
    "# Find_artworks for each artist\n",
    "for artist_url in artist_urls:\n",
    "    with FindArtworks(artist_link=artist_url, output_dir=output_dir, min_wait_time=10) as scraper:\n",
    "            # Save list of works, description, and metadata for an artist\n",
    "            scraper.save_artist_information()\n",
    "            # Get list of links to this artist's works \n",
    "            artwork_links = scraper.get_artist_works()\n",
    "            # Create directory for this artist\n",
    "            artist_dir = output_dir + '/' + scraper.get_wikipedia_article_title()            \n",
    "    # Scrape artworks\n",
    "    with GoogleArtScraper(artist_dir + '/' + 'works', min_wait=10) as subscraper:\n",
    "        # Go through each artwork link\n",
    "        for url in artwork_links:\n",
    "            subscraper.load_link(url)\n",
    "            subscraper.save_metadata()\n",
    "            subscraper.save_image()"
   ]
  },
  {
   "cell_type": "markdown",
   "id": "ca18d30b",
   "metadata": {},
   "source": [
    "# Display results"
   ]
  },
  {
   "cell_type": "markdown",
   "id": "618ee2d6",
   "metadata": {},
   "source": [
    "### Display contents of data directory"
   ]
  },
  {
   "cell_type": "code",
   "execution_count": 7,
   "id": "ec469791",
   "metadata": {},
   "outputs": [
    {
     "name": "stdout",
     "output_type": "stream",
     "text": [
      "Abraham_Lambertsz_van_den_Tempel  Alexander_Keirincx  William_Notman\r\n"
     ]
    }
   ],
   "source": [
    "!ls data"
   ]
  },
  {
   "cell_type": "markdown",
   "id": "dd69f5bc",
   "metadata": {},
   "source": [
    "### Display contents of directory for one artist"
   ]
  },
  {
   "cell_type": "code",
   "execution_count": 8,
   "id": "2281a5c7",
   "metadata": {},
   "outputs": [
    {
     "name": "stdout",
     "output_type": "stream",
     "text": [
      "description.txt  metadata.txt  works  works.txt\r\n"
     ]
    }
   ],
   "source": [
    "!ls ./data/William_Notman/"
   ]
  },
  {
   "cell_type": "markdown",
   "id": "627f3f6b",
   "metadata": {},
   "source": [
    "### Description of artist"
   ]
  },
  {
   "cell_type": "code",
   "execution_count": 9,
   "id": "4afad02b",
   "metadata": {},
   "outputs": [
    {
     "name": "stdout",
     "output_type": "stream",
     "text": [
      "William Notman (8 March 1826 – 25 November 1891) was a Scottish-Canadian photographer and businessman. The Notman House in Montreal was his home from 1876 until his death in 1891, and it has since been named after him. Notman was the first photographer in Canada to achieve international recognition."
     ]
    }
   ],
   "source": [
    "!cat ./data/William_Notman/description.txt"
   ]
  },
  {
   "cell_type": "markdown",
   "id": "ac2e3754",
   "metadata": {},
   "source": [
    "### Metadata of artist"
   ]
  },
  {
   "cell_type": "code",
   "execution_count": 10,
   "id": "0d0806f7",
   "metadata": {},
   "outputs": [
    {
     "name": "stdout",
     "output_type": "stream",
     "text": [
      "family name : Notman\r\n",
      "given name : William\r\n",
      "sex or gender : male\r\n",
      "date of birth : 1826-03-08\r\n",
      "place of birth : Paisley\r\n",
      "latitude of place of birth : 55.845555555\r\n",
      "longitude of place of birth : -4.423888888\r\n",
      "date of death : 1826-03-08\r\n",
      "place of death : Montreal\r\n",
      "latitude of place of death : 45.508888888\r\n",
      "longitude of place of death : -73.561666666\r\n",
      "country of citizenship : ['Canada', 'United Kingdom of Great Britain and Ireland']\r\n",
      "residence : Canada\r\n",
      "work location : ['New York City', 'Boston', 'Toronto', 'Montreal', 'Philadelphia', 'Ottawa', 'Halifax', 'Niagara Falls', 'Cambridge']\r\n",
      "genre : \r\n",
      "movement : \r\n"
     ]
    }
   ],
   "source": [
    "!cat ./data/William_Notman/metadata.txt"
   ]
  },
  {
   "cell_type": "markdown",
   "id": "2f128b4b",
   "metadata": {},
   "source": [
    "### Directory containing works of this artist"
   ]
  },
  {
   "cell_type": "code",
   "execution_count": 11,
   "id": "54afc420",
   "metadata": {},
   "outputs": [
    {
     "name": "stdout",
     "output_type": "stream",
     "text": [
      "bald-eagle-white-headed-eagle-william-notman_oQGugt5O8az3bA\r\n",
      "montreal-from-street-railway-power-house-chimney-qc__AHTyBmsOEhjaw\r\n",
      "mrs-william-mackenzie-in-allan-s-conservatory-montreal-qc_GQEUtJuLAhf54w\r\n",
      "the-terra-nova-snowshoe-club-montreal-notman-william-sandham-henry_OQFIdhZoZj9eOg\r\n"
     ]
    }
   ],
   "source": [
    "!ls ./data/William_Notman/works"
   ]
  },
  {
   "cell_type": "markdown",
   "id": "caab7ba3",
   "metadata": {},
   "source": [
    "### Directory containing one artwork by this artist"
   ]
  },
  {
   "cell_type": "code",
   "execution_count": 12,
   "id": "4d07d9f1",
   "metadata": {},
   "outputs": [
    {
     "name": "stdout",
     "output_type": "stream",
     "text": [
      "artwork.png  metadata.json\r\n"
     ]
    }
   ],
   "source": [
    "!ls ./data/William_Notman/works/mrs-william-mackenzie-in-allan-s-conservatory-montreal-qc_GQEUtJuLAhf54w/"
   ]
  },
  {
   "cell_type": "markdown",
   "id": "3f2374c0",
   "metadata": {},
   "source": [
    "### Display the artwork"
   ]
  },
  {
   "cell_type": "code",
   "execution_count": 13,
   "id": "5ed9b3b7",
   "metadata": {},
   "outputs": [],
   "source": [
    "from matplotlib import pyplot as plt\n",
    "import matplotlib.image as mpimg"
   ]
  },
  {
   "cell_type": "code",
   "execution_count": null,
   "id": "8f4e1e93",
   "metadata": {},
   "outputs": [],
   "source": [
    "img = mpimg.imread(\"./data/William_Notman/works/mrs-william-mackenzie-in-allan-s-conservatory-montreal-qc_GQEUtJuLAhf54w/artwork.png\")\n",
    "plt.imshow(img)\n",
    "plt.show()"
   ]
  },
  {
   "cell_type": "markdown",
   "id": "57555f04",
   "metadata": {},
   "source": [
    "### Display metadata for this artwork"
   ]
  },
  {
   "cell_type": "code",
   "execution_count": 15,
   "id": "b02d3f00",
   "metadata": {},
   "outputs": [
    {
     "name": "stdout",
     "output_type": "stream",
     "text": [
      "{\"main_text\": \"\", \"title\": \"Mrs. William MacKenzie in Allan's conservatory, Montreal, QC\", \"date\": \"1871/1871\", \"type\": \"Photographie,  Photograph\", \"titre\": \"Mme William MacKenzie, Montr\\u00e9al, QC\", \"photographer\": \"William Notman\", \"credit line\": \"Purchase from Associated Screen News Ltd.,  Achat de l'Associated Screen News Ltd.\", \"rights\": \"http://www.musee-mccord.qc.ca/en/orders/conditions/\", \"external link\": \" http://www.mccord-museum.qc.ca/en/collection/artifacts/I-63833\", \"medium\": \"Silver salts on glass - Wet collodion process,  Plaque de verre au collodion humide\", \"id\": \"GQEUtJuLAhf54w\", \"link\": \"https://artsandculture.google.com/asset/mrs-william-mackenzie-in-allan-s-conservatory-montreal-qc/GQEUtJuLAhf54w\"}"
     ]
    }
   ],
   "source": [
    "!cat ./data/William_Notman/works/mrs-william-mackenzie-in-allan-s-conservatory-montreal-qc_GQEUtJuLAhf54w//metadata.json"
   ]
  }
 ],
 "metadata": {
  "kernelspec": {
   "display_name": "Python 3 (ipykernel)",
   "language": "python",
   "name": "python3"
  },
  "language_info": {
   "codemirror_mode": {
    "name": "ipython",
    "version": 3
   },
   "file_extension": ".py",
   "mimetype": "text/x-python",
   "name": "python",
   "nbconvert_exporter": "python",
   "pygments_lexer": "ipython3",
   "version": "3.10.6"
  }
 },
 "nbformat": 4,
 "nbformat_minor": 5
}
