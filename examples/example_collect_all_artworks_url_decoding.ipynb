{
 "cells": [
  {
   "cell_type": "markdown",
   "id": "d83d0691",
   "metadata": {},
   "source": [
    "# Example artist: Zdeněk Sýkora "
   ]
  },
  {
   "cell_type": "code",
   "execution_count": 1,
   "id": "194ac6af",
   "metadata": {},
   "outputs": [],
   "source": [
    "import time"
   ]
  },
  {
   "cell_type": "code",
   "execution_count": 2,
   "id": "8583c7c0",
   "metadata": {},
   "outputs": [],
   "source": [
    "from artscraper import GoogleArtScraper, FindArtworks, random_wait_time, retry"
   ]
  },
  {
   "cell_type": "code",
   "execution_count": 3,
   "id": "c34d9016",
   "metadata": {},
   "outputs": [],
   "source": [
    "# Maximum number of attempts to perform a task \n",
    "max_retries = 3"
   ]
  },
  {
   "cell_type": "code",
   "execution_count": 4,
   "id": "c7c7aed1",
   "metadata": {},
   "outputs": [],
   "source": [
    "min_wait_time = 10"
   ]
  },
  {
   "cell_type": "code",
   "execution_count": 5,
   "id": "43ae9afa",
   "metadata": {},
   "outputs": [],
   "source": [
    "# Directory in which the data is to be stored\n",
    "output_dir = './data'"
   ]
  },
  {
   "cell_type": "code",
   "execution_count": 6,
   "id": "8d21abe7",
   "metadata": {},
   "outputs": [],
   "source": [
    "# Artist Zdeněk Sýkora, 3 artworks\n",
    "artist_urls = ['https://artsandculture.google.com/entity/zden%C4%9Bk-s%C3%BDkora/m0gyrctv']"
   ]
  },
  {
   "cell_type": "code",
   "execution_count": 7,
   "id": "eb623d6b",
   "metadata": {
    "scrolled": true
   },
   "outputs": [
    {
     "name": "stderr",
     "output_type": "stream",
     "text": [
      "[WDM] - Downloading: 19.2kB [00:00, 9.56MB/s]                                   \n",
      "[WDM] - Downloading: 100%|█████████████████| 2.93M/2.93M [00:00<00:00, 75.4MB/s]\n"
     ]
    },
    {
     "name": "stdout",
     "output_type": "stream",
     "text": [
      "artwork URL: https://artsandculture.google.com/asset/line-no-56-humberto-zden%C4%9Bk-s%C3%BDkora/XgGPSy53OVWyaw\n",
      "artwork URL: https://artsandculture.google.com/asset/black-lines-zden%C4%9Bk-s%C3%BDkora/NwEzX_kYKTNDOA\n",
      "artwork URL: https://artsandculture.google.com/asset/black-and-white-structure-zdenek-sykora/6gGt7GEf2h9Yuw\n",
      "artwork URL: https://artsandculture.google.com/asset/line-no-56-humberto-zden%C4%9Bk-s%C3%BDkora/XgGPSy53OVWyaw\n",
      "CPU times: user 267 ms, sys: 35 ms, total: 302 ms\n",
      "Wall time: 11 s\n"
     ]
    }
   ],
   "source": [
    "%%time \n",
    "\n",
    "# Find_artworks for each artist\n",
    "for artist_url in artist_urls:\n",
    "    with FindArtworks(artist_link=artist_url, output_dir=output_dir, \n",
    "                      min_wait_time=min_wait_time) as scraper:\n",
    "            # Save list of works, description, and metadata for an artist\n",
    "            retry(scraper.save_artist_information, max_retries, min_wait_time)\n",
    "            # Create directory for this artist\n",
    "            artist_dir = output_dir + '/' + scraper.get_wikipedia_article_title()    \n",
    "            # Get list of links to this artist's works \n",
    "            with open(artist_dir+'/'+'works.txt', 'r') as file:\n",
    "                artwork_links = [line.rstrip() for line in file]  \n",
    "    # Scrape artworks\n",
    "    with GoogleArtScraper(artist_dir + '/' + 'works', min_wait=min_wait_time) as subscraper:\n",
    "        # Go through each artwork link\n",
    "        for url in artwork_links:\n",
    "            print(f'artwork URL: {url}')\n",
    "            retry(subscraper.save_artwork_information, max_retries, min_wait_time, url)"
   ]
  },
  {
   "cell_type": "markdown",
   "id": "3519fb2e",
   "metadata": {},
   "source": [
    "## Display results"
   ]
  },
  {
   "cell_type": "markdown",
   "id": "f8cfeece",
   "metadata": {},
   "source": [
    "### Display contents of data directory"
   ]
  },
  {
   "cell_type": "code",
   "execution_count": 8,
   "id": "9f56346a",
   "metadata": {},
   "outputs": [
    {
     "name": "stdout",
     "output_type": "stream",
     "text": [
      "A._Y._Jackson  Clementine_Hunter  Hokusai  Hokusai_old\tZdeněk_Sýkora\r\n"
     ]
    }
   ],
   "source": [
    "!ls data"
   ]
  },
  {
   "cell_type": "markdown",
   "id": "eff822f0",
   "metadata": {},
   "source": [
    "### Display contents of directory for one artist"
   ]
  },
  {
   "cell_type": "code",
   "execution_count": 9,
   "id": "fc4d3d90",
   "metadata": {},
   "outputs": [
    {
     "name": "stdout",
     "output_type": "stream",
     "text": [
      "description.txt  metadata.json\tworks  works.txt\r\n"
     ]
    }
   ],
   "source": [
    "!ls ./data/Zdeněk_Sýkora"
   ]
  },
  {
   "cell_type": "markdown",
   "id": "e0921cb7",
   "metadata": {},
   "source": [
    "### Description of artist"
   ]
  },
  {
   "cell_type": "code",
   "execution_count": 10,
   "id": "38079197",
   "metadata": {},
   "outputs": [
    {
     "name": "stdout",
     "output_type": "stream",
     "text": [
      "Zdeněk Sýkora (February 3, 1920 – July 12, 2011) was a Czechoslovakian modern abstract painter and sculptor, and a pioneer of using computers in art."
     ]
    }
   ],
   "source": [
    "!cat ./data/Zdeněk_Sýkora/description.txt"
   ]
  },
  {
   "cell_type": "markdown",
   "id": "322e9c5b",
   "metadata": {},
   "source": [
    "### Metadata of artist"
   ]
  },
  {
   "cell_type": "code",
   "execution_count": 11,
   "id": "2e5ef192",
   "metadata": {},
   "outputs": [
    {
     "name": "stdout",
     "output_type": "stream",
     "text": [
      "{\"family name\": \"Sýkora\", \"given name\": \"Zdeněk\", \"sex or gender\": \"male\", \"date of birth\": \"1920-02-03\", \"place of birth\": [\"Paceřice\", \"Louny\"], \"latitude of place of birth\": [\"50.619292049\", \"50.357078457\"], \"longitude of place of birth\": [\"15.113627963\", \"13.796762432\"], \"date of death\": \"2011-07-12\", \"place of death\": \"Louny\", \"latitude of place of death\": \"50.357078457\", \"longitude of place of death\": \"13.796762432\", \"country of citizenship\": [\"Czech Republic\", \"Czechoslovakia\"], \"residence\": \"\", \"work location\": \"Louny\", \"genre\": \"\", \"movement\": \"\", \"occupation\": [\"teacher\", \"architect\", \"painter\", \"sculptor\", \"graphic artist\"]}"
     ]
    }
   ],
   "source": [
    "!cat ./data/Zdeněk_Sýkora/metadata.json"
   ]
  },
  {
   "cell_type": "markdown",
   "id": "63251f32",
   "metadata": {},
   "source": [
    "### Directory containing works of this artist"
   ]
  },
  {
   "cell_type": "code",
   "execution_count": 12,
   "id": "1cd0d995",
   "metadata": {},
   "outputs": [
    {
     "name": "stdout",
     "output_type": "stream",
     "text": [
      "black-and-white-structure-zdenek-sykora_6gGt7GEf2h9Yuw\r\n",
      "black-lines-zdeněk-sýkora_NwEzX_kYKTNDOA\r\n",
      "line-no-56-humberto-zdeněk-sýkora_XgGPSy53OVWyaw\r\n"
     ]
    }
   ],
   "source": [
    "!ls ./data/Zdeněk_Sýkora/works"
   ]
  },
  {
   "cell_type": "markdown",
   "id": "4c20d8c2",
   "metadata": {},
   "source": [
    "### Directory containing one artwork by this artist"
   ]
  },
  {
   "cell_type": "code",
   "execution_count": 13,
   "id": "256919d3",
   "metadata": {},
   "outputs": [
    {
     "name": "stdout",
     "output_type": "stream",
     "text": [
      "artwork.png  metadata.json\r\n"
     ]
    }
   ],
   "source": [
    "!ls ./data/Zdeněk_Sýkora/works/line-no-56-humberto-zdeněk-sýkora_XgGPSy53OVWyaw"
   ]
  },
  {
   "cell_type": "markdown",
   "id": "6829e0a2",
   "metadata": {},
   "source": [
    "### Display metadata for this artwork"
   ]
  },
  {
   "cell_type": "code",
   "execution_count": 14,
   "id": "b5504ef7",
   "metadata": {},
   "outputs": [
    {
     "name": "stdout",
     "output_type": "stream",
     "text": [
      "{\"main_text\": \"The Fifty-sixth Line (in this simple way the artist has been naming his paintings since 1974) takes an important place in Sýkora´s work baceuse of its vigorous colour scheme. The first pictures on this theme were painted in 1973, when the preceding and no less exciting stage of his work was closed - the ten-year-long period of structures. As early as 1964, Zdeněk Sýkora, probably the first painter in the history of art, made use of the computer as an auxiliary tool in the solution of the composition of the picture. The programme for determining the position of each element in the structure was devised jointly with the mathematician Jaroslav Blažek. The structures were subject to strict, predetermined rules, the computer kept the rules and solved the assignment. On the other hand the \\\"earthworms\\\" - as the artist sometimes called his line pictures - are based on the application of chance in the system evolved by the artist. In 1985 his wife Lenka began to cooperate on its development. Thus each picture at firts existed as a numerical score, which was then transferred in classical way, by paint, on the canvas, as if a composition was created from the music notes. And why did the painter give the picture another name? He says that he himself was suprised by the way in which the \\\"crazy\\\" picure reminiscent of a circus had originated. The painting thus went beyond his expectations in all respects, he even had to get accustomed to the strange combinations of colours so that for one year Humberto was stored in the next room. In the end, it became a favourite representative of Sýkora´s art.\", \"title\": \"Line no. 56 (Humberto)\", \"creator\": \"Zdeněk Sýkora\", \"date\": \"1988\", \"physical dimensions\": \"200 x 200 cm\", \"medium\": \"acrylic,  canvas\", \"id\": \"XgGPSy53OVWyaw\", \"link\": \"https://artsandculture.google.com/asset/line-no-56-humberto-zden%C4%9Bk-s%C3%BDkora/XgGPSy53OVWyaw\"}"
     ]
    }
   ],
   "source": [
    "!cat ./data/Zdeněk_Sýkora/works/line-no-56-humberto-zdeněk-sýkora_XgGPSy53OVWyaw/metadata.json"
   ]
  },
  {
   "cell_type": "markdown",
   "id": "2810ec59",
   "metadata": {},
   "source": [
    "# Example artwork: Kajikazawa in Kai Province, from the series thirty-six views of Mount Fuji "
   ]
  },
  {
   "cell_type": "code",
   "execution_count": 15,
   "id": "c783a9ad",
   "metadata": {},
   "outputs": [],
   "source": [
    "artwork_links = ['https://artsandculture.google.com/asset/%E5%86%A8%E5%B6%BD%E4%B8%89%E5%8D%81%E5%85%AD%E6%99%AF%E3%80%80%E7%94%B2%E5%B7%9E%E7%9F%B3%E7%8F%AD%E6%B2%A2-kajikazawa-in-kai-province-k%C5%8Dsh%C5%AB-kajikazawa-from-the-series-thirty-six-views-of-mount-fuji-fugaku-sanj%C5%ABrokkei-katsushika-hokusai/hgHQaDeXBcllwg']"
   ]
  },
  {
   "cell_type": "code",
   "execution_count": 16,
   "id": "e38b6ff7",
   "metadata": {},
   "outputs": [
    {
     "name": "stdout",
     "output_type": "stream",
     "text": [
      "artwork URL: https://artsandculture.google.com/asset/%E5%86%A8%E5%B6%BD%E4%B8%89%E5%8D%81%E5%85%AD%E6%99%AF%E3%80%80%E7%94%B2%E5%B7%9E%E7%9F%B3%E7%8F%AD%E6%B2%A2-kajikazawa-in-kai-province-k%C5%8Dsh%C5%AB-kajikazawa-from-the-series-thirty-six-views-of-mount-fuji-fugaku-sanj%C5%ABrokkei-katsushika-hokusai/hgHQaDeXBcllwg\n"
     ]
    }
   ],
   "source": [
    "with GoogleArtScraper(output_dir + '/' + 'Hokusai' + '/' + 'works', min_wait=min_wait_time) as subscraper:\n",
    "        # Go through each artwork link\n",
    "        for url in artwork_links:\n",
    "            print(f'artwork URL: {url}')\n",
    "            retry(subscraper.save_artwork_information, max_retries, min_wait_time, url)"
   ]
  },
  {
   "cell_type": "markdown",
   "id": "8fb60484",
   "metadata": {},
   "source": [
    "## Display results"
   ]
  },
  {
   "cell_type": "markdown",
   "id": "77f7868f",
   "metadata": {},
   "source": [
    "### Directory containing works of this artist"
   ]
  },
  {
   "cell_type": "code",
   "execution_count": 17,
   "id": "5bd7654a",
   "metadata": {},
   "outputs": [
    {
     "name": "stdout",
     "output_type": "stream",
     "text": [
      "冨嶽三十六景　甲州石班沢-kajikazawa-in-kai-province-kōshū-kajikazawa-from-the-series-thirty-six-views-of-mount-fuji-fugaku-sanjūrokkei-katsushika-hokusai_hgHQaDeXBcllwg\r\n"
     ]
    }
   ],
   "source": [
    "!ls ./data/Hokusai/works"
   ]
  },
  {
   "cell_type": "markdown",
   "id": "2a521a4c",
   "metadata": {},
   "source": [
    "### Directory containing one artwork by this artist"
   ]
  },
  {
   "cell_type": "code",
   "execution_count": 18,
   "id": "7a85d111",
   "metadata": {},
   "outputs": [
    {
     "name": "stdout",
     "output_type": "stream",
     "text": [
      "artwork.png  metadata.json\r\n"
     ]
    }
   ],
   "source": [
    "!ls ./data/Hokusai/works/冨嶽三十六景　甲州石班沢-kajikazawa-in-kai-province-kōshū-kajikazawa-from-the-series-thirty-six-views-of-mount-fuji-fugaku-sanjūrokkei-katsushika-hokusai_hgHQaDeXBcllwg"
   ]
  },
  {
   "cell_type": "markdown",
   "id": "76b31701",
   "metadata": {},
   "source": [
    "### Display metadata for this artwork"
   ]
  },
  {
   "cell_type": "code",
   "execution_count": 19,
   "id": "2e5d6e6d",
   "metadata": {},
   "outputs": [
    {
     "name": "stdout",
     "output_type": "stream",
     "text": [
      "{\"main_text\": \"\", \"title\": \"冨嶽三十六景　甲州石班沢|Kajikazawa in Kai Province (Kōshū Kajikazawa), from the series Thirty-six Views of Mount Fuji (Fugaku sanjūrokkei)\", \"creator\": \"Katsushika Hokusai\", \"date created\": \"ca. 1830–32\", \"physical dimensions\": \"10 1/4 x 15 1/8 in. (26 x 38.4 cm)\", \"type\": \"Woodblock print\", \"external link\": \" http://www.metmuseum.org/art/collection/search/39800\", \"medium\": \"Polychrome woodblock print; ink and color on paper\", \"repository\": \"Metropolitan Museum of Art, New York, NY\", \"period\": \"Edo period (1615–1868)\", \"culture\": \"Japan\", \"id\": \"hgHQaDeXBcllwg\", \"link\": \"https://artsandculture.google.com/asset/%E5%86%A8%E5%B6%BD%E4%B8%89%E5%8D%81%E5%85%AD%E6%99%AF%E3%80%80%E7%94%B2%E5%B7%9E%E7%9F%B3%E7%8F%AD%E6%B2%A2-kajikazawa-in-kai-province-k%C5%8Dsh%C5%AB-kajikazawa-from-the-series-thirty-six-views-of-mount-fuji-fugaku-sanj%C5%ABrokkei-katsushika-hokusai/hgHQaDeXBcllwg\"}"
     ]
    }
   ],
   "source": [
    "!cat ./data/Hokusai/works/冨嶽三十六景　甲州石班沢-kajikazawa-in-kai-province-kōshū-kajikazawa-from-the-series-thirty-six-views-of-mount-fuji-fugaku-sanjūrokkei-katsushika-hokusai_hgHQaDeXBcllwg/metadata.json"
   ]
  }
 ],
 "metadata": {
  "kernelspec": {
   "display_name": "Python 3 (ipykernel)",
   "language": "python",
   "name": "python3"
  },
  "language_info": {
   "codemirror_mode": {
    "name": "ipython",
    "version": 3
   },
   "file_extension": ".py",
   "mimetype": "text/x-python",
   "name": "python",
   "nbconvert_exporter": "python",
   "pygments_lexer": "ipython3",
   "version": "3.9.13"
  }
 },
 "nbformat": 4,
 "nbformat_minor": 5
}
