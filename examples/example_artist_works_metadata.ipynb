{
 "cells": [
  {
   "cell_type": "code",
   "execution_count": null,
   "id": "d2b145f7",
   "metadata": {},
   "outputs": [],
   "source": [
    "from artscraper import get_artist_works"
   ]
  },
  {
   "cell_type": "code",
   "execution_count": null,
   "id": "6ee05a4e",
   "metadata": {},
   "outputs": [],
   "source": [
    "# Artist's Google Arts & Culture web address \n",
    "artist_link = 'https://artsandculture.google.com/entity/claude-monet/m01xnj?categoryid=artist'"
   ]
  },
  {
   "cell_type": "code",
   "execution_count": null,
   "id": "6e3a705d",
   "metadata": {},
   "outputs": [],
   "source": [
    "#Minimum time (in seconds) to wait before scrolling to the right\n",
    "min_wait_time = 2"
   ]
  },
  {
   "cell_type": "code",
   "execution_count": null,
   "id": "c6f06c29",
   "metadata": {},
   "outputs": [],
   "source": [
    "%%time\n",
    "\n",
    "# Get list of artist's works\n",
    "list_artist_works = get_artist_works(artist_link, min_wait_time)"
   ]
  }
 ],
 "metadata": {
  "kernelspec": {
   "display_name": "Python 3 (ipykernel)",
   "language": "python",
   "name": "python3"
  },
  "language_info": {
   "codemirror_mode": {
    "name": "ipython",
    "version": 3
   },
   "file_extension": ".py",
   "mimetype": "text/x-python",
   "name": "python",
   "nbconvert_exporter": "python",
   "pygments_lexer": "ipython3",
   "version": "3.9.13"
  }
 },
 "nbformat": 4,
 "nbformat_minor": 5
}
