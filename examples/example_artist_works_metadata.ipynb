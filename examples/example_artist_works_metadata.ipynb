{
 "cells": [
  {
   "cell_type": "markdown",
   "id": "ccc9568b",
   "metadata": {},
   "source": [
    "# Get links to an artist's works"
   ]
  },
  {
   "cell_type": "code",
   "execution_count": null,
   "id": "d2b145f7",
   "metadata": {},
   "outputs": [],
   "source": [
    "from artscraper import get_artist_works"
   ]
  },
  {
   "cell_type": "code",
   "execution_count": 1,
   "id": "6ee05a4e",
   "metadata": {},
   "outputs": [],
   "source": [
    "# Artist's Google Arts & Culture web address \n",
    "artist_link = 'https://artsandculture.google.com/entity/claude-monet/m01xnj?categoryid=artist'"
   ]
  },
  {
   "cell_type": "code",
   "execution_count": null,
   "id": "6e3a705d",
   "metadata": {},
   "outputs": [],
   "source": [
    "#Minimum time (in seconds) to wait before scrolling to the right\n",
    "min_wait_time = 2"
   ]
  },
  {
   "cell_type": "code",
   "execution_count": null,
   "id": "c6f06c29",
   "metadata": {},
   "outputs": [],
   "source": [
    "%%time\n",
    "\n",
    "# Get list of artist's works\n",
    "list_artist_works = get_artist_works(artist_link, min_wait_time)"
   ]
  },
  {
   "cell_type": "markdown",
   "id": "95135f83",
   "metadata": {},
   "source": [
    "# Get description of the artist, from Wikipedia"
   ]
  },
  {
   "cell_type": "code",
   "execution_count": 2,
   "id": "aa12d450",
   "metadata": {},
   "outputs": [],
   "source": [
    "from artscraper import get_artist_description"
   ]
  },
  {
   "cell_type": "code",
   "execution_count": 3,
   "id": "a41f46d8",
   "metadata": {},
   "outputs": [],
   "source": [
    "description = get_artist_description(artist_link)"
   ]
  },
  {
   "cell_type": "code",
   "execution_count": 4,
   "id": "09f43e23",
   "metadata": {},
   "outputs": [
    {
     "name": "stdout",
     "output_type": "stream",
     "text": [
      "Oscar-Claude Monet (UK: , US: , French: [klod mɔnɛ]; 14 November 1840 – 5 December 1926) was a French painter and founder of impressionist painting who is seen as a key precursor to modernism, especially in his attempts to paint nature as he perceived it. During his long career, he was the most consistent and prolific practitioner of impressionism's philosophy of expressing one's perceptions before nature, especially as applied to plein air (outdoor) landscape painting. The term \"Impressionism\" is derived from the title of his painting Impression, soleil levant, exhibited in 1874 (the \"exhibition of rejects\") initiated by Monet and his associates as an alternative to the Salon.\n",
      "Monet was raised in Le Havre, Normandy, and became interested in the outdoors and drawing from an early age. Although his mother, Louise-Justine Aubrée Monet, supported his ambitions to be a painter, his father, Claude-Adolphe, disapproved and wanted him to pursue a career in business. He was very close to his mother, but she died in January 1857 when he was sixteen years old, and he was sent to live with his childless, widowed but wealthy aunt, Marie-Jeanne Lecadre. He went on to study at the Académie Suisse, and under the academic history painter Charles Gleyre, where he was a classmate of Auguste Renoir. His early works include landscapes, seascapes, and portraits, but attracted little attention. A key early influence was Eugène Boudin who introduced him to the concept of plein air painting. From 1883, Monet lived in Giverny, also in northern France, where he purchased a house and property and began a vast landscaping project, including a water-lily pond.\n",
      "Monet's ambition to document the French countryside led to a method of painting the same scene many times so as to capture the changing of light and the passing of the seasons. Among the best-known examples are his series of haystacks (1890–91), paintings of the Rouen Cathedral (1894), and the paintings of water lilies in his garden in Giverny that occupied him continuously for the last 20 years of his life.\n",
      "Frequently exhibited and successful during his lifetime, Monet's fame and popularity soared in the second half of the 20th century when he became one of the world's most famous painters and a source of inspiration for burgeoning groups of artists.\n"
     ]
    }
   ],
   "source": [
    "print(description)"
   ]
  }
 ],
 "metadata": {
  "kernelspec": {
   "display_name": "Python 3 (ipykernel)",
   "language": "python",
   "name": "python3"
  },
  "language_info": {
   "codemirror_mode": {
    "name": "ipython",
    "version": 3
   },
   "file_extension": ".py",
   "mimetype": "text/x-python",
   "name": "python",
   "nbconvert_exporter": "python",
   "pygments_lexer": "ipython3",
   "version": "3.9.13"
  }
 },
 "nbformat": 4,
 "nbformat_minor": 5
}
