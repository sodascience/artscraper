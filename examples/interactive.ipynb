{
 "cells": [
  {
   "cell_type": "code",
   "execution_count": null,
   "id": "801ffc7d",
   "metadata": {},
   "outputs": [],
   "source": [
    "from artscraper import GoogleArtScraper, WikiArtScraper\n",
    "from matplotlib import pyplot as plt\n",
    "import matplotlib.image as mpimg"
   ]
  },
  {
   "cell_type": "markdown",
   "id": "5f1f7d89",
   "metadata": {},
   "source": [
    "Below is a show-case on how to interactively scrape WikiArt or GoogleArt. This naturally can be done with a script as well, but for those it is recommended to use the the `output_dir` argument to the scraper, so that it automatically places it in folders."
   ]
  },
  {
   "cell_type": "code",
   "execution_count": null,
   "id": "bac876f5",
   "metadata": {
    "scrolled": true
   },
   "outputs": [],
   "source": [
    "link = \"https://artsandculture.google.com/asset/helena-hunter-fairytales/dwFMypq0ZSiq6w\"\n",
    "\n",
    "with GoogleArtScraper() as scraper:\n",
    "    scraper.load_link(link)\n",
    "    print(scraper.get_metadata(deviant=0))\n",
    "    scraper.save_image(img_fp=\"google.png\")\n",
    "    img = mpimg.imread('google.png')\n",
    "    plt.imshow(img)\n",
    "    plt.show()"
   ]
  },
  {
   "cell_type": "code",
   "execution_count": null,
   "id": "8685220e",
   "metadata": {},
   "outputs": [],
   "source": [
    "link = \"https://www.wikiart.org/en/aleksandra-ekster/women-s-costume-1918\"\n",
    "\n",
    "with WikiArtScraper() as scraper:\n",
    "    scraper.load_link(link)\n",
    "    print(scraper.get_metadata(deviant=0))\n",
    "    scraper.save_image(img_fp=\"wiki.jpg\")\n",
    "    img = mpimg.imread('wiki.jpg')\n",
    "    plt.imshow(img)\n",
    "    plt.show()"
   ]
  }
 ],
 "metadata": {
  "kernelspec": {
   "display_name": "Python 3 (ipykernel)",
   "language": "python",
   "name": "python3"
  },
  "language_info": {
   "codemirror_mode": {
    "name": "ipython",
    "version": 3
   },
   "file_extension": ".py",
   "mimetype": "text/x-python",
   "name": "python",
   "nbconvert_exporter": "python",
   "pygments_lexer": "ipython3",
   "version": "3.9.9"
  }
 },
 "nbformat": 4,
 "nbformat_minor": 5
}
