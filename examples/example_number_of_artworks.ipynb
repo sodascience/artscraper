{
 "cells": [
  {
   "cell_type": "markdown",
   "id": "9b42eac8",
   "metadata": {},
   "source": [
    "# Create table of artists and the number of artworks created by them"
   ]
  },
  {
   "cell_type": "code",
   "execution_count": null,
   "id": "eb8a6242",
   "metadata": {},
   "outputs": [],
   "source": [
    "import time\n",
    "from selenium import webdriver\n",
    "from artscraper.functions import random_wait_time\n",
    "from selenium.webdriver.common.by import By"
   ]
  },
  {
   "cell_type": "code",
   "execution_count": null,
   "id": "7bbd25da",
   "metadata": {},
   "outputs": [],
   "source": [
    "webpage='https://artsandculture.google.com/category/artist'\n",
    "executable_path='geckodriver'\n",
    "min_wait_time=5"
   ]
  },
  {
   "cell_type": "code",
   "execution_count": null,
   "id": "54ad1d55",
   "metadata": {},
   "outputs": [],
   "source": [
    "# Launch Firefox browser\n",
    "driver = webdriver.Firefox(executable_path=executable_path)\n",
    "\n",
    "# Get Google Arts & Culture webpage listing all artists\n",
    "driver.get(webpage)"
   ]
  },
  {
   "cell_type": "code",
   "execution_count": null,
   "id": "14a7a272",
   "metadata": {},
   "outputs": [],
   "source": [
    "# Get scroll height after first time page load\n",
    "last_height = driver.execute_script(\"return document.body.scrollHeight\")\n",
    "while True:\n",
    "    # Scroll down to bottom\n",
    "    driver.execute_script(\"window.scrollTo(0, document.body.scrollHeight);\")\n",
    "    # Wait to load page\n",
    "    time.sleep(random_wait_time(min_wait=min_wait_time))\n",
    "    # Calculate new scroll height and compare with last scroll height\n",
    "    new_height = driver.execute_script(\"return document.body.scrollHeight\")\n",
    "    if new_height == last_height:\n",
    "        break\n",
    "    last_height = new_height"
   ]
  },
  {
   "cell_type": "code",
   "execution_count": null,
   "id": "66649c6c",
   "metadata": {},
   "outputs": [],
   "source": [
    "# Find xpaths containing artist links\n",
    "elements = driver.find_elements('xpath', '//*[contains(@href,\"categoryId=artist\")]')\n",
    "\n",
    "# List to store artist links\n",
    "list_links = []\n",
    "list_names = []\n",
    "list_number_of_works = []\n",
    "\n",
    "# Go through each xpath containing an artist link\n",
    "for element in elements:\n",
    "    #Find name of artist\n",
    "    name_element = element.find_element(By.CLASS_NAME, 'lR1tHf')\n",
    "    name = name_element.get_attribute('innerHTML')\n",
    "    #Find number of works by artist\n",
    "    num_works_element = element.find_element(By.CLASS_NAME, 'f8qA6c')\n",
    "    num_works_text = num_works_element.get_attribute('innerHTML')\n",
    "    num_works = int(num_works_text.rsplit(' ')[0].replace(',',''))\n",
    "    # Extract link to webpage\n",
    "    link = element.get_attribute('href')\n",
    "    # Remove trailing text\n",
    "    link = link.replace('?categoryId=artist', '')\n",
    "    # Append to list\n",
    "    list_names.append(name)\n",
    "    list_number_of_works.append(num_works)\n",
    "    list_links.append(link)"
   ]
  },
  {
   "cell_type": "code",
   "execution_count": null,
   "id": "ae4d5ca0",
   "metadata": {},
   "outputs": [],
   "source": [
    "# Close driver\n",
    "driver.close()"
   ]
  },
  {
   "cell_type": "code",
   "execution_count": 1,
   "id": "e357e36e",
   "metadata": {},
   "outputs": [],
   "source": [
    "import pandas as pd"
   ]
  },
  {
   "cell_type": "code",
   "execution_count": null,
   "id": "658d1c3c",
   "metadata": {},
   "outputs": [],
   "source": [
    "df = pd.DataFrame({'name': list_names, 'number of works': list_number_of_works, 'URL': list_links})\n",
    "df.set_index('name', inplace=True)\n",
    "df_sorted = df.sort_values(by=['number of works'], ascending=False)\n",
    "df_sorted.to_csv('artists_information.csv')"
   ]
  },
  {
   "cell_type": "code",
   "execution_count": 2,
   "id": "8ac71202",
   "metadata": {},
   "outputs": [],
   "source": [
    "df = pd.read_csv('artists_information.csv')"
   ]
  },
  {
   "cell_type": "code",
   "execution_count": 3,
   "id": "a7656256",
   "metadata": {},
   "outputs": [],
   "source": [
    "df = df.drop_duplicates(subset=['URL'])"
   ]
  },
  {
   "cell_type": "code",
   "execution_count": 4,
   "id": "2c07e2d7",
   "metadata": {},
   "outputs": [],
   "source": [
    "from IPython.display import HTML"
   ]
  },
  {
   "cell_type": "code",
   "execution_count": 5,
   "id": "30bfedbf",
   "metadata": {},
   "outputs": [
    {
     "data": {
      "text/html": [
       "<table border=\"1\" class=\"dataframe\">\n",
       "  <thead>\n",
       "    <tr style=\"text-align: right;\">\n",
       "      <th></th>\n",
       "      <th>Unnamed: 0</th>\n",
       "      <th>name</th>\n",
       "      <th>number of works</th>\n",
       "      <th>URL</th>\n",
       "    </tr>\n",
       "  </thead>\n",
       "  <tbody>\n",
       "    <tr>\n",
       "      <th>0</th>\n",
       "      <td>142</td>\n",
       "      <td>Alfred Eisenstaedt</td>\n",
       "      <td>192000</td>\n",
       "      <td><a href=\"https://artsandculture.google.com/entity/alfred-eisenstaedt/m0229mr\" target=\"_blank\">https://artsandculture.google.com/entity/alfred-eisenstaedt/m0229mr</a></td>\n",
       "    </tr>\n",
       "    <tr>\n",
       "      <th>1</th>\n",
       "      <td>668</td>\n",
       "      <td>Ralph Morse</td>\n",
       "      <td>120000</td>\n",
       "      <td><a href=\"https://artsandculture.google.com/entity/ralph-morse/m0bjy92\" target=\"_blank\">https://artsandculture.google.com/entity/ralph-morse/m0bjy92</a></td>\n",
       "    </tr>\n",
       "    <tr>\n",
       "      <th>2</th>\n",
       "      <td>419</td>\n",
       "      <td>Carl Mydans</td>\n",
       "      <td>115000</td>\n",
       "      <td><a href=\"https://artsandculture.google.com/entity/carl-mydans/m03ny43\" target=\"_blank\">https://artsandculture.google.com/entity/carl-mydans/m03ny43</a></td>\n",
       "    </tr>\n",
       "    <tr>\n",
       "      <th>3</th>\n",
       "      <td>696</td>\n",
       "      <td>George Silk</td>\n",
       "      <td>97000</td>\n",
       "      <td><a href=\"https://artsandculture.google.com/entity/george-silk/m08_px0\" target=\"_blank\">https://artsandculture.google.com/entity/george-silk/m08_px0</a></td>\n",
       "    </tr>\n",
       "    <tr>\n",
       "      <th>4</th>\n",
       "      <td>4184</td>\n",
       "      <td>Loomis Dean</td>\n",
       "      <td>88600</td>\n",
       "      <td><a href=\"https://artsandculture.google.com/entity/loomis-dean/m02q6y4q\" target=\"_blank\">https://artsandculture.google.com/entity/loomis-dean/m02q6y4q</a></td>\n",
       "    </tr>\n",
       "    <tr>\n",
       "      <th>5</th>\n",
       "      <td>4867</td>\n",
       "      <td>Peter Stackpole</td>\n",
       "      <td>83100</td>\n",
       "      <td><a href=\"https://artsandculture.google.com/entity/peter-stackpole/m04_11wv\" target=\"_blank\">https://artsandculture.google.com/entity/peter-stackpole/m04_11wv</a></td>\n",
       "    </tr>\n",
       "    <tr>\n",
       "      <th>6</th>\n",
       "      <td>4009</td>\n",
       "      <td>Nina Leen</td>\n",
       "      <td>51600</td>\n",
       "      <td><a href=\"https://artsandculture.google.com/entity/nina-leen/m05wvf3g\" target=\"_blank\">https://artsandculture.google.com/entity/nina-leen/m05wvf3g</a></td>\n",
       "    </tr>\n",
       "    <tr>\n",
       "      <th>7</th>\n",
       "      <td>174</td>\n",
       "      <td>Margaret Bourke-White</td>\n",
       "      <td>44000</td>\n",
       "      <td><a href=\"https://artsandculture.google.com/entity/margaret-bourke-white/m02grhl\" target=\"_blank\">https://artsandculture.google.com/entity/margaret-bourke-white/m02grhl</a></td>\n",
       "    </tr>\n",
       "    <tr>\n",
       "      <th>8</th>\n",
       "      <td>2961</td>\n",
       "      <td>Cornell Capa</td>\n",
       "      <td>35300</td>\n",
       "      <td><a href=\"https://artsandculture.google.com/entity/cornell-capa/m0b65t7\" target=\"_blank\">https://artsandculture.google.com/entity/cornell-capa/m0b65t7</a></td>\n",
       "    </tr>\n",
       "    <tr>\n",
       "      <th>9</th>\n",
       "      <td>2888</td>\n",
       "      <td>Gjon Mili</td>\n",
       "      <td>34500</td>\n",
       "      <td><a href=\"https://artsandculture.google.com/entity/gjon-mili/m089090\" target=\"_blank\">https://artsandculture.google.com/entity/gjon-mili/m089090</a></td>\n",
       "    </tr>\n",
       "    <tr>\n",
       "      <th>10</th>\n",
       "      <td>700</td>\n",
       "      <td>David Scherman</td>\n",
       "      <td>30100</td>\n",
       "      <td><a href=\"https://artsandculture.google.com/entity/david-scherman/m0ds53mt\" target=\"_blank\">https://artsandculture.google.com/entity/david-scherman/m0ds53mt</a></td>\n",
       "    </tr>\n",
       "    <tr>\n",
       "      <th>11</th>\n",
       "      <td>562</td>\n",
       "      <td>Bill Eppridge</td>\n",
       "      <td>24000</td>\n",
       "      <td><a href=\"https://artsandculture.google.com/entity/bill-eppridge/m0c3_6ft\" target=\"_blank\">https://artsandculture.google.com/entity/bill-eppridge/m0c3_6ft</a></td>\n",
       "    </tr>\n",
       "    <tr>\n",
       "      <th>12</th>\n",
       "      <td>3363</td>\n",
       "      <td>Goseki Kojima</td>\n",
       "      <td>12000</td>\n",
       "      <td><a href=\"https://artsandculture.google.com/entity/goseki-kojima/m04cl2_\" target=\"_blank\">https://artsandculture.google.com/entity/goseki-kojima/m04cl2_</a></td>\n",
       "    </tr>\n",
       "    <tr>\n",
       "      <th>13</th>\n",
       "      <td>114</td>\n",
       "      <td>Gordon Parks</td>\n",
       "      <td>11600</td>\n",
       "      <td><a href=\"https://artsandculture.google.com/entity/gordon-parks/m02t_dy\" target=\"_blank\">https://artsandculture.google.com/entity/gordon-parks/m02t_dy</a></td>\n",
       "    </tr>\n",
       "    <tr>\n",
       "      <th>14</th>\n",
       "      <td>1157</td>\n",
       "      <td>Candido Portinari</td>\n",
       "      <td>5820</td>\n",
       "      <td><a href=\"https://artsandculture.google.com/entity/candido-portinari/m027mss\" target=\"_blank\">https://artsandculture.google.com/entity/candido-portinari/m027mss</a></td>\n",
       "    </tr>\n",
       "    <tr>\n",
       "      <th>15</th>\n",
       "      <td>396</td>\n",
       "      <td>Larry Burrows</td>\n",
       "      <td>5620</td>\n",
       "      <td><a href=\"https://artsandculture.google.com/entity/larry-burrows/m054sc1\" target=\"_blank\">https://artsandculture.google.com/entity/larry-burrows/m054sc1</a></td>\n",
       "    </tr>\n",
       "    <tr>\n",
       "      <th>16</th>\n",
       "      <td>329</td>\n",
       "      <td>George Rodger</td>\n",
       "      <td>5490</td>\n",
       "      <td><a href=\"https://artsandculture.google.com/entity/george-rodger/m04jhnp\" target=\"_blank\">https://artsandculture.google.com/entity/george-rodger/m04jhnp</a></td>\n",
       "    </tr>\n",
       "    <tr>\n",
       "      <th>17</th>\n",
       "      <td>3454</td>\n",
       "      <td>Yoshihiro Takahashi</td>\n",
       "      <td>4860</td>\n",
       "      <td><a href=\"https://artsandculture.google.com/entity/yoshihiro-takahashi/m0fj594\" target=\"_blank\">https://artsandculture.google.com/entity/yoshihiro-takahashi/m0fj594</a></td>\n",
       "    </tr>\n",
       "    <tr>\n",
       "      <th>18</th>\n",
       "      <td>1621</td>\n",
       "      <td>W. Eugene Smith</td>\n",
       "      <td>3930</td>\n",
       "      <td><a href=\"https://artsandculture.google.com/entity/w-eugene-smith/m01_cmx\" target=\"_blank\">https://artsandculture.google.com/entity/w-eugene-smith/m01_cmx</a></td>\n",
       "    </tr>\n",
       "    <tr>\n",
       "      <th>19</th>\n",
       "      <td>3591</td>\n",
       "      <td>Jan Luyken</td>\n",
       "      <td>3270</td>\n",
       "      <td><a href=\"https://artsandculture.google.com/entity/jan-luyken/m09ph51\" target=\"_blank\">https://artsandculture.google.com/entity/jan-luyken/m09ph51</a></td>\n",
       "    </tr>\n",
       "  </tbody>\n",
       "</table>"
      ],
      "text/plain": [
       "<IPython.core.display.HTML object>"
      ]
     },
     "execution_count": 5,
     "metadata": {},
     "output_type": "execute_result"
    }
   ],
   "source": [
    "HTML(df[0:20].to_html(render_links=True, escape=False))"
   ]
  },
  {
   "cell_type": "code",
   "execution_count": 6,
   "id": "877fa143",
   "metadata": {},
   "outputs": [
    {
     "name": "stdout",
     "output_type": "stream",
     "text": [
      "1178854\n"
     ]
    }
   ],
   "source": [
    "# Total number of artworks\n",
    "total = df['number of works'].sum()\n",
    "print(total)"
   ]
  },
  {
   "cell_type": "code",
   "execution_count": 7,
   "id": "818880b8",
   "metadata": {},
   "outputs": [
    {
     "name": "stdout",
     "output_type": "stream",
     "text": [
      "891200\n"
     ]
    }
   ],
   "source": [
    "# First 11 entries are all photographers\n",
    "first_11 = df['number of works'][0:11].sum()\n",
    "print(first_11)"
   ]
  },
  {
   "cell_type": "code",
   "execution_count": 8,
   "id": "423c7daf",
   "metadata": {},
   "outputs": [
    {
     "name": "stdout",
     "output_type": "stream",
     "text": [
      "287654\n"
     ]
    }
   ],
   "source": [
    "print(total - first_11)"
   ]
  },
  {
   "cell_type": "code",
   "execution_count": 9,
   "id": "f981220a",
   "metadata": {},
   "outputs": [],
   "source": [
    "import seaborn as sns"
   ]
  },
  {
   "cell_type": "code",
   "execution_count": 10,
   "id": "a59303e7",
   "metadata": {},
   "outputs": [
    {
     "data": {
      "text/plain": [
       "<AxesSubplot:xlabel='number of works', ylabel='Count'>"
      ]
     },
     "execution_count": 10,
     "metadata": {},
     "output_type": "execute_result"
    },
    {
     "data": {
      "image/png": "[encoded data removed]",
      "text/plain": [
       "<Figure size 640x480 with 1 Axes>"
      ]
     },
     "metadata": {},
     "output_type": "display_data"
    }
   ],
   "source": [
    "sns.histplot(data=df, x=\"number of works\", log_scale=True)"
   ]
  },
  {
   "cell_type": "code",
   "execution_count": 11,
   "id": "1ab32256",
   "metadata": {},
   "outputs": [],
   "source": [
    "import numpy as np"
   ]
  },
  {
   "cell_type": "code",
   "execution_count": 12,
   "id": "c4899b8d",
   "metadata": {},
   "outputs": [
    {
     "data": {
      "text/plain": [
       "<AxesSubplot:>"
      ]
     },
     "execution_count": 12,
     "metadata": {},
     "output_type": "execute_result"
    },
    {
     "data": {
      "image/png": "[encoded data removed]",
      "text/plain": [
       "<Figure size 640x480 with 1 Axes>"
      ]
     },
     "metadata": {},
     "output_type": "display_data"
    }
   ],
   "source": [
    "np.log10(df['number of works']).hist()"
   ]
  },
  {
   "cell_type": "code",
   "execution_count": null,
   "id": "3c07b813",
   "metadata": {},
   "outputs": [],
   "source": []
  }
 ],
 "metadata": {
  "kernelspec": {
   "display_name": "Python 3 (ipykernel)",
   "language": "python",
   "name": "python3"
  },
  "language_info": {
   "codemirror_mode": {
    "name": "ipython",
    "version": 3
   },
   "file_extension": ".py",
   "mimetype": "text/x-python",
   "name": "python",
   "nbconvert_exporter": "python",
   "pygments_lexer": "ipython3",
   "version": "3.9.13"
  }
 },
 "nbformat": 4,
 "nbformat_minor": 5
}
