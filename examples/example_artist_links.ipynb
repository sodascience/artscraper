{
 "cells": [
  {
   "cell_type": "code",
   "execution_count": 1,
   "id": "2012d3d9",
   "metadata": {},
   "outputs": [],
   "source": [
    "from artscraper import get_artist_links"
   ]
  },
  {
   "cell_type": "code",
   "execution_count": 2,
   "id": "76c7b78e",
   "metadata": {},
   "outputs": [],
   "source": [
    "# Google Arts & Culture webpage listing all artists\n",
    "webpage = 'https://artsandculture.google.com/category/artist'"
   ]
  },
  {
   "cell_type": "code",
   "execution_count": 3,
   "id": "40fa3557",
   "metadata": {},
   "outputs": [
    {
     "name": "stdout",
     "output_type": "stream",
     "text": [
      "CPU times: user 3.51 s, sys: 159 ms, total: 3.67 s\n",
      "Wall time: 10min 21s\n"
     ]
    }
   ],
   "source": [
    "%%time\n",
    "\n",
    "# Get list of artist links\n",
    "list_artist_links = get_artist_links(webpage)"
   ]
  }
 ],
 "metadata": {
  "kernelspec": {
   "display_name": "Python 3 (ipykernel)",
   "language": "python",
   "name": "python3"
  },
  "language_info": {
   "codemirror_mode": {
    "name": "ipython",
    "version": 3
   },
   "file_extension": ".py",
   "mimetype": "text/x-python",
   "name": "python",
   "nbconvert_exporter": "python",
   "pygments_lexer": "ipython3",
   "version": "3.9.13"
  }
 },
 "nbformat": 4,
 "nbformat_minor": 5
}
