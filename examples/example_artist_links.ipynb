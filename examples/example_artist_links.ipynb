{
 "cells": [
  {
   "cell_type": "code",
   "execution_count": 16,
   "id": "27246622",
   "metadata": {},
   "outputs": [],
   "source": [
    "import time\n",
    "from pathlib import Path"
   ]
  },
  {
   "cell_type": "code",
   "execution_count": 17,
   "id": "75f62754",
   "metadata": {},
   "outputs": [],
   "source": [
    "import sys\n",
    "sys.path.append('../artscraper/')"
   ]
  },
  {
   "cell_type": "code",
   "execution_count": 18,
   "id": "2012d3d9",
   "metadata": {},
   "outputs": [],
   "source": [
    "from artist_links import get_artist_links"
   ]
  },
  {
   "cell_type": "code",
   "execution_count": null,
   "id": "40fa3557",
   "metadata": {},
   "outputs": [],
   "source": [
    "if __name__ == \"__main__\":\n",
    "\n",
    "    # Google Arts & Culture webpage listing all artists\n",
    "    webpage = 'https://artsandculture.google.com/category/artist'\n",
    "\n",
    "    # Create results directory if it doesn't exist\n",
    "    Path('results_artist_links').mkdir(exist_ok=True)\n",
    "    # Output file in which to store artist links\n",
    "    output_file = './results_artist_links/artist_links.txt'\n",
    "\n",
    "    start_time = time.time()\n",
    "\n",
    "    # Get artist links and save them in output_file \n",
    "    get_artist_links(webpage, output_file)\n",
    "\n",
    "    end_time = time.time()\n",
    "\n",
    "    run_time = end_time - start_time\n",
    "    print(\"Run time: %f minutes\" %(run_time/60))"
   ]
  },
  {
   "cell_type": "code",
   "execution_count": null,
   "id": "c2037bf6",
   "metadata": {},
   "outputs": [],
   "source": []
  }
 ],
 "metadata": {
  "kernelspec": {
   "display_name": "Python 3 (ipykernel)",
   "language": "python",
   "name": "python3"
  },
  "language_info": {
   "codemirror_mode": {
    "name": "ipython",
    "version": 3
   },
   "file_extension": ".py",
   "mimetype": "text/x-python",
   "name": "python",
   "nbconvert_exporter": "python",
   "pygments_lexer": "ipython3",
   "version": "3.9.13"
  }
 },
 "nbformat": 4,
 "nbformat_minor": 5
}
